{
 "cells": [
  {
   "cell_type": "markdown",
   "metadata": {},
   "source": [
    "# TP 1 de Statistique descriptive avec SAS"
   ]
  },
  {
   "cell_type": "markdown",
   "metadata": {},
   "source": [
    "Objectifs de la séance :\n",
    "* Rappeler le fonctionnement général des procédures et de l'étape DATA;\n",
    "* Réaliser une analyse univariée sur des variables qualitatives à l'aide de SAS (procédures UNIVARIATE et MEANS);\n",
    "* Réaliser des graphiques (boîte à moustache, histogramme, courbe de Lorentz, droite d'Henry) en SAS."
   ]
  },
  {
   "cell_type": "markdown",
   "metadata": {},
   "source": [
    "Le matériel nécessaire à la réalisation de ce TP est disponible sous Moodle. Créer sous votre espace personnel un dossier \"TP1\" contenant l'aborescence suivante  :\n",
    "\n",
    "Les exercices portent sur deux tables : RP12_D35 (données issues de l'enquête du recensemement de la population) et revenu. Voici le dictionnaire des variables de ces tables.\n",
    "\n",
    "**Attention : l'exploitation de données issues d'enquêtes nécessite l'utilisation de pondérations. En effet, lors d'une enquête, seul un échantillon de la population est interrogé. Ainsi pour obtenir des informations sur la population totale, on utilisera des indicateurs pondérés (moyenne pondéré par exemple)**"
   ]
  },
  {
   "cell_type": "markdown",
   "metadata": {},
   "source": [
    "## Exercice 1 - Analyse de la table RP12_D35"
   ]
  },
  {
   "cell_type": "markdown",
   "metadata": {},
   "source": [
    "**Question 1** : Créez une bibliothèque (ou library) *source* faisant le lien avec le dossier TP1/Source. Vous prendrez soin d'utiliser une option d'instruction permettant la lecture seule. Est-ce ici nécessaire de renseigner un moteur ?\n",
    "\n",
    "Créez également une bibliothèque *resultat* qui va contenir les tables en résultat de ce TP."
   ]
  },
  {
   "cell_type": "markdown",
   "metadata": {},
   "source": [
    "Rappel : une bibliothèque est un lien logique entre un dossier de votre ordinateur et un nom SAS. "
   ]
  },
  {
   "cell_type": "code",
   "execution_count": null,
   "metadata": {},
   "outputs": [],
   "source": [
    "LIBNAME source \"/folders/myfolders/Donnees_TP_SAS/TP1\" ACCESS = READONLY;\n",
    "LIBNAME resultat \"/folders/myfolders/Donnees_TP_SAS/TP1\";"
   ]
  },
  {
   "cell_type": "markdown",
   "metadata": {},
   "source": [
    "**Question 2** : créez une copie de la table RP12_d35 dans la bibliothèque *resultat*."
   ]
  },
  {
   "cell_type": "code",
   "execution_count": null,
   "metadata": {},
   "outputs": [],
   "source": [
    "DATA resultat.RP12_d35;\n",
    "SET source.RP12_d35;\n",
    "RUN;"
   ]
  },
  {
   "cell_type": "markdown",
   "metadata": {},
   "source": [
    "**Question 3** : En utilisant une procédure, affichez les vingts premières lignes de la table."
   ]
  },
  {
   "cell_type": "code",
   "execution_count": null,
   "metadata": {},
   "outputs": [],
   "source": [
    "PROC PRINT DATA = source.RP12_d35(OBS = 20);\n",
    "RUN;"
   ]
  },
  {
   "cell_type": "markdown",
   "metadata": {},
   "source": [
    "**Question 4** : À l'aide d'une procédure judicieusement choisie, affichez des informations générales sur la table RP12 ainsi que sur les variables. Combien de variables et d'observations contient cette table ? Combien de variables numériques sont disponibles dans cette table ?"
   ]
  },
  {
   "cell_type": "code",
   "execution_count": null,
   "metadata": {},
   "outputs": [],
   "source": [
    "PROC CONTENTS DATA = source.RP12_d35;\n",
    "RUN;"
   ]
  },
  {
   "cell_type": "markdown",
   "metadata": {},
   "source": [
    "**Question 5** : Quel est l'âge médian en Ille-et-Vilaine ? Celui des femmes et celui des hommes ? Veillez à ne pas afficher le nombre d'observations par sexe dans vos sorties."
   ]
  },
  {
   "cell_type": "markdown",
   "metadata": {},
   "source": [
    "**N'hésitez pas à préciser aux étudiants que l'instruction CLASS ne nécessite pas de trier la table au préalable**"
   ]
  },
  {
   "cell_type": "code",
   "execution_count": null,
   "metadata": {},
   "outputs": [],
   "source": [
    "PROC MEANS DATA = source.RP12_d35 MEDIAN;\n",
    "VAR AGE;\n",
    "WEIGHT IPONDI;\n",
    "RUN;"
   ]
  },
  {
   "cell_type": "code",
   "execution_count": null,
   "metadata": {},
   "outputs": [],
   "source": [
    "PROC MEANS DATA = source.RP12_d35 MEDIAN NOOBS;\n",
    "VAR AGE;\n",
    "WEIGHT IPONDI;\n",
    "CLASS SEXE;\n",
    "RUN;"
   ]
  },
  {
   "cell_type": "markdown",
   "metadata": {},
   "source": [
    "Il est également possible de répondre à cette question en utilisant la procédure UNIVARIATE. Les sorties de cette procédure sont plus riches que celles de la procédure MEANS. "
   ]
  },
  {
   "cell_type": "code",
   "execution_count": null,
   "metadata": {},
   "outputs": [],
   "source": [
    "PROC UNIVARIATE DATA = source.RP12_d35; \n",
    "VAR AGE;\n",
    "WEIGHT IPONDI;\n",
    "CLASS SEXE;\n",
    "RUN;"
   ]
  },
  {
   "cell_type": "markdown",
   "metadata": {},
   "source": [
    "**Question 6** : Calculez les déciles d'âge par sexe ainsi que le rapport interdécile. Stockez-les dans une table SAS"
   ]
  },
  {
   "cell_type": "code",
   "execution_count": null,
   "metadata": {},
   "outputs": [],
   "source": [
    "PROC UNIVARIATE DATA = source.RP12_d35 NOPRINT;\n",
    "WEIGHT IPONDI;\n",
    "OUTPUT OUT = decile P10=AGE10  P90=AGE90 P50=AGE50;\n",
    "VAR AGE;\n",
    "CLASS SEXE;\n",
    "RUN;\n",
    "\n",
    "DATA decile;\n",
    "SET decile;\n",
    "INTER = (AGE90 - AGE10)/AGE50;\n",
    "RUN;\n",
    "\n",
    "\n",
    "PROC PRINT DATA = decile;\n",
    "RUN;"
   ]
  },
  {
   "cell_type": "markdown",
   "metadata": {},
   "source": [
    "**Question 7** : Calculez à l'aide d'une procédure des indicateurs statistiques (moyenne, médiane, minimum, maximum, mode) sur l'âge en Ille-et-Vilaine et stockez-les dans une seule table."
   ]
  },
  {
   "cell_type": "code",
   "execution_count": null,
   "metadata": {},
   "outputs": [],
   "source": [
    "PROC UNIVARIATE DATA = source.RP12_d35 VARDEF = WEIGHT;\n",
    "VAR AGE;\n",
    "WEIGHT IPONDI;\n",
    "OUTPUT OUT = age_descriptive;\n",
    "RUN;"
   ]
  },
  {
   "cell_type": "markdown",
   "metadata": {},
   "source": [
    "**Question 8** : Faites deux représentations graphiques de la distribution de l'âge (histogramme et boîte à moustache) et repérez à vue de nez sur le graphique les indicateurs de tendance centrale. On pourra utiliser la procédure SGPLOT.\n",
    "\n",
    "Remarque : il est possible d'obtenir un histogramme avec la procédure UNIVARIATE à l'aide de l'instruction HISTOGRAM mais les poids ne seront pas pris en compte."
   ]
  },
  {
   "cell_type": "code",
   "execution_count": null,
   "metadata": {},
   "outputs": [],
   "source": [
    "PROC SGPLOT data=SOURCE.RP12_D35;\n",
    "    VBOX age / WEIGHT = IPONDI;\n",
    "RUN;"
   ]
  },
  {
   "cell_type": "code",
   "execution_count": null,
   "metadata": {},
   "outputs": [],
   "source": [
    "PROC SGPLOT DATA = source.RP12_d35;\n",
    "HISTOGRAM AGE / WEIGHT = IPONDI binstart = 0 binwidth = 1;\n",
    "RUN;"
   ]
  },
  {
   "cell_type": "markdown",
   "metadata": {},
   "source": [
    "**Attention : avec la procédure UNIVARIATE, il est impossible d'utiliser des poids.**"
   ]
  },
  {
   "cell_type": "code",
   "execution_count": null,
   "metadata": {},
   "outputs": [],
   "source": [
    "PROC UNIVARIATE DATA = source.RP12_d35;\n",
    "VAR AGE;\n",
    "HISTOGRAM/ endpoids = 1 2;\n",
    "RUN;"
   ]
  },
  {
   "cell_type": "markdown",
   "metadata": {},
   "source": [
    "**Question 9** : En utilisant une seule procédure SGPLOT, comparez à l'aide d'une boîte à moustache l'âge des femmes et l'âge des hommes."
   ]
  },
  {
   "cell_type": "code",
   "execution_count": null,
   "metadata": {},
   "outputs": [],
   "source": [
    "PROC SGPLOT DATA = SOURCE.RP12_D35;\n",
    "     VBOX age / CATEGORY=SEXE WEIGHT=IPONDI;\n",
    "     YAXIS grid;\n",
    "RUN;\n"
   ]
  },
  {
   "cell_type": "markdown",
   "metadata": {},
   "source": [
    "**Question 10** : On aimerait vérifier de manière graphique si l'âge est distribuée selon une loi gaussienne. Proposez un graphique permettant cette comparaison et réalisez-le."
   ]
  },
  {
   "cell_type": "code",
   "execution_count": null,
   "metadata": {},
   "outputs": [],
   "source": [
    "PROC UNIVARIATE DATA = source.RP12_d35 NOPRINT;\n",
    "QQPLOT AGE;\n",
    "RUN;"
   ]
  },
  {
   "cell_type": "markdown",
   "metadata": {},
   "source": [
    "**Question 11** : Calculez pour chaque observation l'écart de l'âge pondéré à la moyenne arithmétique pondéré de la variable AGE. Vous stockerez ces valeurs dans une variable nommée ECM dans la table resultat.RP12_d35. Combien vaut le total de cette variable ? Vérifiez en calculant les effectifs cumulés en utilisant une étape DATA et l'instruction RETAIN."
   ]
  },
  {
   "cell_type": "markdown",
   "metadata": {},
   "source": [
    "En effet, soit $X = (x_1, ..., x_n)$. On note $\\omega = (\\omega_1, ..., \\omega_n)$ les poids associés. La moyenne arithmétique pondérée est donnée par $\\displaystyle \\bar{x} = \\sum_{i=1}^n \\omega_i x_i$. Pour un individu i, $ECM_i$ = $\\omega_i x_i - \\bar{x}$ d'où $\\displaystyle \\sum_{i = 1}^{n} ECM_i = \\sum_{i=1}^n \\omega_i x_i - \\sum_{i = 1}^n \\bar{x} = \\sum_{i=1}^n \\omega_i x_i - n\\bar{x} = 0$"
   ]
  },
  {
   "cell_type": "code",
   "execution_count": null,
   "metadata": {},
   "outputs": [],
   "source": [
    "PROC MEANS DATA = resultat.RP12_d35 MEAN;\n",
    "VAR AGE;\n",
    "WEIGHT IPONDI;\n",
    "RUN;\n",
    "\n",
    "DATA resultat.RP12_d35;\n",
    "SET resultat.RP12_d35;\n",
    "ECM = IPONDI*AGE - 38.518514;\n",
    "RUN;\n",
    "\n",
    "DATA resultat.RP12_d35;\n",
    "SET resultat.RP12_d35;\n",
    "retain cumul 0;\n",
    "cumul = sum(cumul, ECM);\n",
    "run;"
   ]
  },
  {
   "cell_type": "markdown",
   "metadata": {},
   "source": [
    "**Question 12** : À l'aide d'une étape DATA, ajoutez la variable AGETRANCHE qui va valoir : \n",
    "* \"[0;18[\" quand l'âge est entre 0 et 18 ans exclus\n",
    "* \"[18;26[\" quand l'âge est entre 18 et 26 ans\n",
    "* \"[26;55[\" quand l'âge est entre 26 et 55 ans\n",
    "* \"[55;65[\" quand l'âge est entre 55 et 65 ans\n",
    "* \"[65;80[\" quand l'âge est entre 65 et 80 ans\n",
    "* \"[80 et plus[\" sinon"
   ]
  },
  {
   "cell_type": "code",
   "execution_count": null,
   "metadata": {},
   "outputs": [],
   "source": [
    "DATA resultat.RP12_d35;\n",
    "SET resultat.RP12_d35;\n",
    "SELECT;\n",
    "    WHEN (AGE >= 0 AND AGE < 18) AGETRANCHE = \"[0;18]\";\n",
    "    WHEN (AGE <= 18 AND AGE < 26) AGETRANCHE = \"[18;26[\";\n",
    "    WHEN (AGE <= 26 AND AGE < 40) AGETRANCHE = \"[26;40[\";\n",
    "    WHEN (AGE <= 40 AND AGE < 55) AGETRANCHE = \"[40;55[\";\n",
    "    WHEN (AGE <= 55 AND AGE < 65) AGETRANCHE = \"[55;65[\";\n",
    "    WHEN (AGE <= 65 AND AGE < 80) AGETRANCHE = \"[65;80[\";\n",
    "    OTHERWISE AGETRANCHE = \"[80;+[\";\n",
    "END;\n",
    "RUN;"
   ]
  },
  {
   "cell_type": "markdown",
   "metadata": {},
   "source": [
    "**Question bonus** (à réaliser si vous avez fini l'exercice 2) : Réalisez la pyramide des âges suivante. On pourra utiliser la procédure FREQ et la procédure SGPLOT ainsi qu'une étape DATA. "
   ]
  },
  {
   "cell_type": "code",
   "execution_count": null,
   "metadata": {},
   "outputs": [],
   "source": [
    "proc freq data = resultat.RP12_d35;\n",
    "table AGE * SEXE / out = pop_par_age noprint;\n",
    "weight ipondi;\n",
    "run;\n",
    "\n",
    "data pop_par_age;\n",
    "set pop_par_age;\n",
    "if sexe = 1 then \n",
    "count = -count;\n",
    "run;\n",
    "\n",
    "\n",
    "proc sgplot data = pop_par_age;\n",
    "hbar  age  / RESPONSE = COUNT GROUP = SEXE;\n",
    "yaxis reverse label = \"Population\";\n",
    "xaxis label = \"Âge\";\n",
    "run;"
   ]
  },
  {
   "cell_type": "markdown",
   "metadata": {},
   "source": [
    "## Exercice 2 - Calcul d'un coefficient de Gini et d'une courbe de Lorentz"
   ]
  },
  {
   "cell_type": "markdown",
   "metadata": {},
   "source": [
    "**Question 13** : Créer la variable TRANCHE_REV qui comportera les modalités suivantes :\n",
    "* \"[0;4]\" si revenu est compris entre 0 et 4;\n",
    "* \"]4;7]\" si revenu est compris entre 4 et 7;\n",
    "* \"]7;12]\" si revenu est compris entre 7 et 12;\n",
    "* \"]12;20]\" si revenu est compris entre 12 et 20;\n",
    "* \"]20;+]\" sinon\n",
    "\n"
   ]
  },
  {
   "cell_type": "code",
   "execution_count": null,
   "metadata": {},
   "outputs": [],
   "source": [
    "DATA resultat.revenu;\n",
    "SET source.revenu;\n",
    "SELECT;\n",
    "    WHEN (REVENU >= 0 AND REVENU < 4) TRANCHE_REV = \"[00;04]\";\n",
    "    WHEN (REVENU >= 4 AND REVENU < 7) TRANCHE_REV = \"[04;07[\";\n",
    "    WHEN (REVENU >= 7 AND REVENU < 12) TRANCHE_REV = \"[07;12[\";\n",
    "    WHEN (REVENU >= 12 AND REVENU < 20) TRANCHE_REV = \"[12;20[\";\n",
    "    OTHERWISE TRANCHE_REV = \"[20;+[\";\n",
    "END;\n",
    "RUN;"
   ]
  },
  {
   "cell_type": "markdown",
   "metadata": {},
   "source": [
    "**Question 14** : Créer la table EFF_TRANCHE à l'aide d'une procédure FREQ. Cette table contiendra le nombre d'individus par tranche de revenu (TRANCHE_REV). On ne gardera que les variables TRANCHE_REV et PERCENT. "
   ]
  },
  {
   "cell_type": "code",
   "execution_count": null,
   "metadata": {},
   "outputs": [],
   "source": [
    "PROC FREQ DATA = resultat.revenu;\n",
    "TABLE tranche_rev / OUT = eff_tranche;\n",
    "RUN;"
   ]
  },
  {
   "cell_type": "code",
   "execution_count": null,
   "metadata": {},
   "outputs": [],
   "source": [
    "DATA eff_tranche;\n",
    "SET eff_tranche;\n",
    "KEEP TRANCHE_REV PERCENT;\n",
    "RUN;"
   ]
  },
  {
   "cell_type": "markdown",
   "metadata": {},
   "source": [
    "**Question 15** : Renommez dans la table EFF_TRANCHE la variable PERCENT en PCT_EFFECTIF."
   ]
  },
  {
   "cell_type": "code",
   "execution_count": null,
   "metadata": {},
   "outputs": [],
   "source": [
    "DATA eff_tranche;\n",
    "SET eff_tranche;\n",
    "RENAME PERCENT = PCT_EFFECTIF;\n",
    "RUN;"
   ]
  },
  {
   "cell_type": "markdown",
   "metadata": {},
   "source": [
    "**Question 16** : Créez la table REVENU_TOT_TRANCHE à l'aide d'une procédure TABULATE. Cette table contiendra la somme des revenus par tranche. On ne gardera que les variables revenu_PctSum_0_revenu et TRANCHE_REV."
   ]
  },
  {
   "cell_type": "code",
   "execution_count": null,
   "metadata": {},
   "outputs": [],
   "source": [
    "PROC TABULATE DATA = resultat.revenu out = REVENU_TOT_TRANCHE;\n",
    "TABLES tranche_rev,revenu*pctsum;\n",
    "VAR revenu;\n",
    "CLASS tranche_rev;\n",
    "RUN;"
   ]
  },
  {
   "cell_type": "code",
   "execution_count": null,
   "metadata": {},
   "outputs": [],
   "source": [
    "DATA REVENU_TOT_TRANCHE;\n",
    "SET REVENU_TOT_TRANCHE;\n",
    "KEEP TRANCHE_REV revenu_PctSum_0_revenu;\n",
    "RUN;"
   ]
  },
  {
   "cell_type": "markdown",
   "metadata": {},
   "source": [
    "**Question 17** : Renommez dans la table REVENU_TOT_TRANCHE la variable revenu_PctSum_0_revenu en PCT_REV."
   ]
  },
  {
   "cell_type": "code",
   "execution_count": null,
   "metadata": {},
   "outputs": [],
   "source": [
    "DATA revenu_tot_tranche;\n",
    "SET revenu_tot_tranche;\n",
    "RENAME revenu_PctSum_0_revenu =PCT_REVENU;\n",
    "RUN;"
   ]
  },
  {
   "cell_type": "markdown",
   "metadata": {},
   "source": [
    "**Question 18** : Fusionnez ces deux tables. La table fusionnée se nommera DONNEES_GINI."
   ]
  },
  {
   "cell_type": "code",
   "execution_count": null,
   "metadata": {},
   "outputs": [],
   "source": [
    "DATA donnees_gini;\n",
    "MERGE eff_tranche revenu_tot_tranche;\n",
    "BY tranche_rev;\n",
    "RUN;"
   ]
  },
  {
   "cell_type": "markdown",
   "metadata": {},
   "source": [
    "**Question 19** : Créez les variables PCT_EFFECTIF_CUM et PCT_REVENU_CUM qui seront respectivement les sommes cumulées des variables PCT_EFFECTIF et PCT_REVENU"
   ]
  },
  {
   "cell_type": "markdown",
   "metadata": {},
   "source": [
    "**Merci de bien montrer aux élèves que sous la forme suivante le RETAIN est implicite.**"
   ]
  },
  {
   "cell_type": "code",
   "execution_count": null,
   "metadata": {},
   "outputs": [],
   "source": [
    "DATA donnees_gini;\n",
    "SET donnees_gini;\n",
    "pct_effectif_cum + pct_effectif; \n",
    "pct_revenu_cum + pct_revenu;\n",
    "RUN;"
   ]
  },
  {
   "cell_type": "markdown",
   "metadata": {},
   "source": [
    "**Question 20** :  Pour chaque point, calculez l'aire du trapèze élémentaire. Pour rappel, l'aide du i-ème trapèze élementaire vaut $\\displaystyle \\frac{(\\text{PCT_EFFECTIF_CUM}_{i+1} - \\text{PCT_EFFECTIF_CUM}_{i})\\times(\\text{PCT_REVENU_CUM}_{i+1} + \\text{PCT_REVENU_CUM}_{i})}{2}$. \n",
    "\n",
    "Pour cela, on construira les variables PCT_EFFECTIF_CUM_SUIVANT et PCT_AGE_CUM_SUIVANT qui contiendront les valeurs décalées d'un rang positivement. SAS dispose d'une fonction LAG qui permet de créer à partir d'une varible dont les valeurs sont $(x_1, ..., x_n)$, la variable décalée **négativement** $(., x_1, ...,x_{n-1})$ mais ne dispose pas d'une fonction LEAD (décalage d'un cran positivement donc permettant d'obtenir $(x_2, ..., x_n, .)$. On pourra utiliser habilement une procédure SORT avec l'option d'instruction DESCREASING ainsi que la fonction LAG pour obtenir un décalage positif. "
   ]
  },
  {
   "cell_type": "code",
   "execution_count": null,
   "metadata": {},
   "outputs": [],
   "source": [
    "PROC SORT DATA = donnees_gini;\n",
    "by descending pct_effectif_cum;\n",
    "run;"
   ]
  },
  {
   "cell_type": "code",
   "execution_count": null,
   "metadata": {},
   "outputs": [],
   "source": [
    "DATA donnees_gini;\n",
    "SET donnees_gini;\n",
    "pct_effectif_cum_suivant = LAG(pct_effectif_cum);\n",
    "pct_revenu_cum_suivant = LAG(pct_revenu_cum);\n",
    "RUN;"
   ]
  },
  {
   "cell_type": "code",
   "execution_count": null,
   "metadata": {},
   "outputs": [],
   "source": [
    "PROC SORT DATA = donnees_gini;\n",
    "BY pct_effectif_cum;\n",
    "RUN;"
   ]
  },
  {
   "cell_type": "code",
   "execution_count": null,
   "metadata": {},
   "outputs": [],
   "source": [
    "DATA donnees_gini;\n",
    "SET donnees_gini;\n",
    "trapeze_elem = (pct_effectif_cum_suivant - pct_effectif_cum)*(pct_age_cum_suivant + pct_age_cum)/20000;\n",
    "RUN;"
   ]
  },
  {
   "cell_type": "code",
   "execution_count": null,
   "metadata": {},
   "outputs": [],
   "source": [
    "PROC SGPLOT DATA = donnees_gini;\n",
    "SERIES x = pct_effectif_cum Y = pct_revenu_cum;\n",
    "SERIES x = pct_effectif_cum Y = pct_effectif_cum;\n",
    "TITLE 'Courbe de Lorentz';\n",
    "XAXIS LABEL = \"Proportion des effectifs cumulés\";\n",
    "YAXIS LABEL = \"Proportion des revenus cumulés\";\n",
    "run;"
   ]
  }
 ],
 "metadata": {
  "kernelspec": {
   "display_name": "SAS",
   "language": "sas",
   "name": "sas"
  },
  "language_info": {
   "codemirror_mode": "sas",
   "file_extension": ".sas",
   "mimetype": "text/x-sas",
   "name": "sas"
  }
 },
 "nbformat": 4,
 "nbformat_minor": 2
}
