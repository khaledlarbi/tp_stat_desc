{
 "cells": [
  {
   "cell_type": "markdown",
   "metadata": {},
   "source": [
    "# TP 1 de Statistique descriptive avec SAS"
   ]
  },
  {
   "cell_type": "markdown",
   "metadata": {},
   "source": [
    "Objectifs de la séance :\n",
    "* Rappeler le fonctionnement général des procédures et de l'étape DATA;\n",
    "* Réaliser une analyse univariée sur des variables qualitatives à l'aide de SAS (procédures UNIVARIATE et MEANS);\n",
    "* Réaliser des graphiques (boîte à moustache, histogramme, courbe de Lorentz, droite d'Henry) en SAS."
   ]
  },
  {
   "cell_type": "markdown",
   "metadata": {},
   "source": [
    "Le matériel nécessaire à la réalisation de ce TP est disponible sous Moodle. Créer sous votre espace personnel un dossier \"TP1\" contenant l'aborescence suivante  :\n",
    "\n",
    "Les exercices portent sur une table : RP12_D35 (données issues de l'enquête du recensemement de la population). Vous trouverez un dictionnaire des variables à la fin du sujet.\n",
    "\n",
    "**Attention : l'exploitation de données issues d'enquêtes nécessite l'utilisation de pondérations. En effet, lors d'une enquête, seul un échantillon de la population est interrogé. Ainsi pour obtenir des informations sur la population totale, on utilisera des indicateurs pondérés (moyenne pondéré par exemple)**"
   ]
  },
  {
   "cell_type": "markdown",
   "metadata": {},
   "source": [
    "## Exercice 1"
   ]
  },
  {
   "cell_type": "markdown",
   "metadata": {},
   "source": [
    "**Question 1** : Créez une bibliothèque (ou library) *source* faisant le lien avec le dossier TP1/Source. Vous prendrez soin d'utiliser une option d'instruction permettant la lecture seule. Est-ce ici nécessaire de renseigner un moteur ?\n",
    "\n",
    "Créez également une bibliothèque *resultat* qui va contenir les tables en résultat de ce TP."
   ]
  },
  {
   "cell_type": "markdown",
   "metadata": {},
   "source": [
    "Rappel : une bibliothèque est un lien logique entre un dossier de votre ordinateur et un nom SAS. "
   ]
  },
  {
   "cell_type": "code",
   "execution_count": null,
   "metadata": {},
   "outputs": [],
   "source": [
    "LIBNAME source \"/folders/myfolders/Donnees_TP_SAS/TP1\" ACCESS = READONLY;\n",
    "LIBNAME resultat \"/folders/myfolders/Donnees_TP_SAS/TP1\";"
   ]
  },
  {
   "cell_type": "markdown",
   "metadata": {},
   "source": [
    "**Question 1** : créez une copie de la table RP12_d35 dans la bibliothèque *resultat*."
   ]
  },
  {
   "cell_type": "code",
   "execution_count": null,
   "metadata": {},
   "outputs": [],
   "source": [
    "DATA resultat.RP12_d35;\n",
    "SET source.RP12_d35;\n",
    "RUN;"
   ]
  },
  {
   "cell_type": "markdown",
   "metadata": {},
   "source": [
    "**Question 2** : En utilisant une procédure, affichez les vingts premières lignes de la table."
   ]
  },
  {
   "cell_type": "code",
   "execution_count": null,
   "metadata": {},
   "outputs": [],
   "source": [
    "PROC PRINT DATA = source.RP12_d35(OBS = 20);\n",
    "RUN;"
   ]
  },
  {
   "cell_type": "markdown",
   "metadata": {},
   "source": [
    "**Question 2** : À l'aide d'une procédure judicieusement choisie, affichez des informations générales sur la table RP12 ainsi que sur les variables. Combien de variables et d'observations contient cette table ? Combien de variables numériques sont disponibles dans cette table ?"
   ]
  },
  {
   "cell_type": "code",
   "execution_count": null,
   "metadata": {},
   "outputs": [],
   "source": [
    "PROC CONTENTS DATA = source.RP12_d35;\n",
    "RUN;"
   ]
  },
  {
   "cell_type": "markdown",
   "metadata": {},
   "source": [
    "**Question 3** : Quel est l'âge médian en Ille-et-Vilaine ? Celui des femmes et celui des hommes ? Veillez à ne pas afficher le nombre d'observations par sexe dans vos sorties."
   ]
  },
  {
   "cell_type": "code",
   "execution_count": null,
   "metadata": {},
   "outputs": [],
   "source": [
    "PROC MEANS DATA = source.RP12_d35 MEDIAN;\n",
    "VAR AGE;\n",
    "WEIGHT IPONDI;\n",
    "RUN;"
   ]
  },
  {
   "cell_type": "code",
   "execution_count": null,
   "metadata": {},
   "outputs": [],
   "source": [
    "PROC MEANS DATA = source.RP12_d35 MEDIAN NOOBS;\n",
    "VAR AGE;\n",
    "WEIGHT IPONDI;\n",
    "CLASS SEXE;\n",
    "RUN;"
   ]
  },
  {
   "cell_type": "markdown",
   "metadata": {},
   "source": [
    "Il est également possible de répondre à cette question en utilisant la procédure UNIVARIATE. Les sorties de cette procédure sont plus riches que celles de la procédure MEANS. "
   ]
  },
  {
   "cell_type": "code",
   "execution_count": null,
   "metadata": {},
   "outputs": [],
   "source": [
    "PROC UNIVARIATE DATA = source.RP12_d35; \n",
    "VAR AGE;\n",
    "WEIGHT IPONDI;\n",
    "CLASS SEXE;\n",
    "RUN;"
   ]
  },
  {
   "cell_type": "markdown",
   "metadata": {},
   "source": [
    "**Question 4** : Calculez les déciles d'âge par sexe ainsi que le rapport interdécile. Stockez-les dans une table SAS"
   ]
  },
  {
   "cell_type": "code",
   "execution_count": null,
   "metadata": {},
   "outputs": [],
   "source": []
  },
  {
   "cell_type": "markdown",
   "metadata": {},
   "source": [
    "**Question 5** : Calculez à l'aide d'une procédure des indicateurs statistiques (moyenne, médiane, minimum, maximum, mode) sur l'âge en Ille-et-Vilaine et stockez-les dans une seule table."
   ]
  },
  {
   "cell_type": "code",
   "execution_count": null,
   "metadata": {},
   "outputs": [],
   "source": [
    "PROC UNIVARIATE DATA = source.RP12_d35;\n",
    "VAR AGE;\n",
    "WEIGHT IPONDI;\n",
    "OUTPUT OUT = age_descriptive;\n",
    "RUN;"
   ]
  },
  {
   "cell_type": "markdown",
   "metadata": {},
   "source": [
    "**Question 6** : Faites deux représentations graphiques de la distribution de l'âge (histogramme et boîte à moustache) et repérez à vue de nez sur le graphique les indicateurs de tendance centrale. On pourra utiliser la procédure SGPLOT.\n",
    "\n",
    "Remarque : il est possible d'obtenir un histogramme avec la procédure UNIVARIATE à l'aide de l'instruction HISTOGRAM mais les poids ne seront pas pris en compte."
   ]
  },
  {
   "cell_type": "code",
   "execution_count": null,
   "metadata": {},
   "outputs": [],
   "source": [
    "PROC SGPLOT data=SOURCE.RP12_D35;\n",
    "    vbox age / WEIGHT = IPONDI;\n",
    "RUN;"
   ]
  },
  {
   "cell_type": "code",
   "execution_count": null,
   "metadata": {},
   "outputs": [],
   "source": [
    "PROC SGPLOT DATA = source.RP12_d35;\n",
    "HISTOGRAM AGE / WEIGHT = IPONDI;\n",
    "RUN;"
   ]
  },
  {
   "cell_type": "code",
   "execution_count": null,
   "metadata": {},
   "outputs": [],
   "source": [
    "PROC UNIVARIATE DATA = source.RP12_d35;\n",
    "VAR AGE;\n",
    "HISTOGRAM/ endpoids = 1 2;\n",
    "RUN;"
   ]
  },
  {
   "cell_type": "markdown",
   "metadata": {},
   "source": [
    "**Question** : En utilisant une seule procédure SGPLOT, comparez à l'aide d'une boîte à moustache l'âge des femmes et l'âge des hommes."
   ]
  },
  {
   "cell_type": "code",
   "execution_count": null,
   "metadata": {},
   "outputs": [],
   "source": [
    "PROC SGPLOT DATA = SOURCE.RP12_D35;\n",
    "     VBOX age / CATEGORY=SEXE WEIGHT=IPONDI;\n",
    "     YAXIS grid;\n",
    "RUN;\n"
   ]
  },
  {
   "cell_type": "markdown",
   "metadata": {},
   "source": [
    "**Question 7** : On aimerait vérifier de manière graphique si l'âge est distribuée selon une loi gaussienne. Proposez un graphique permettant cette comparaison et réalisez-le."
   ]
  },
  {
   "cell_type": "code",
   "execution_count": null,
   "metadata": {},
   "outputs": [],
   "source": [
    "PROC UNIVARIATE DATA = source.RP12_d35 NOPRINT;\n",
    "QQPLOT AGE;\n",
    "RUN;"
   ]
  },
  {
   "cell_type": "markdown",
   "metadata": {},
   "source": [
    "**Question 8** : À l'aide d'une étape DATA, ajoutez la variable AGETRANCHE qui va valoir : \n",
    "* \"[0;18[\" quand l'âge est entre 0 et 18 ans exclus\n",
    "* \"[18;26[\" quand l'âge est entre 18 et 26 ans\n",
    "* \"[26;55[\" quand l'âge est entre 26 et 55 ans\n",
    "* \"[55;65[\" quand l'âge est entre 55 et 65 ans\n",
    "* \"[65;80[\" quand l'âge est entre 65 et 80 ans\n",
    "* \"[80 et plus[\" sinon"
   ]
  },
  {
   "cell_type": "code",
   "execution_count": null,
   "metadata": {},
   "outputs": [],
   "source": [
    "DATA resultat.RP12_d35;\n",
    "SET resultat.RP12_d35;\n",
    "SELECT;\n",
    "    WHEN (AGE >= 0 AND AGE < 18) AGETRANCHE = \"[0;18]\";\n",
    "    WHEN (AGE <= 18 AND AGE < 26) AGETRANCHE = \"[18;26[\";\n",
    "    WHEN (AGE <= 26 AND AGE < 55) AGETRANCHE = \"[26;55[\";\n",
    "    WHEN (AGE <= 55 AND AGE < 65) AGETRANCHE = \"[55;65[\";\n",
    "    WHEN (AGE <= 65 AND AGE < 80) AGETRANCHE = \"[65;80[\";\n",
    "    OTHERWISE AGETRANCHE = \"[80;+[\";\n",
    "END;\n",
    "RUN;"
   ]
  },
  {
   "cell_type": "code",
   "execution_count": null,
   "metadata": {},
   "outputs": [],
   "source": [
    "proc print data = resultat.RP12_d35(obs = 20);\n",
    "run;"
   ]
  },
  {
   "cell_type": "markdown",
   "metadata": {},
   "source": [
    "**Question 8** : Calculez pour chaque observation l'écart de l'âge pondéré à la moyenne arithmétique pondéré de la variable AGE. Vous stockerez ces valeurs dans une variable nommée ECM dans la table resultat.RP12_d35. Combien vaut le total de cette variable ? Vérifiez en calculant les effectifs cumulés en utilisant une étape DATA et l'instruction RETAIN."
   ]
  },
  {
   "cell_type": "markdown",
   "metadata": {},
   "source": [
    "En effet, soit $X = (x_1, ..., x_n)$. On note $\\omega = (\\omega_1, ..., \\omega_n)$ les poids associés. La moyenne arithmétique pondérée est donnée par $\\displaystyle \\bar{x} = \\sum_{i=1}^n \\omega_i x_i$. Pour un individu i, $ECM_i$ = $\\omega_i x_i - \\bar{x}$ d'où $\\displaystyle \\sum_{i = 1}^{n} ECM_i = \\sum_{i=1}^n \\omega_i x_i - \\sum_{i = 1}^n \\bar{x} = \\sum_{i=1}^n \\omega_i x_i - n\\bar{x} = 0$"
   ]
  },
  {
   "cell_type": "code",
   "execution_count": null,
   "metadata": {},
   "outputs": [],
   "source": [
    "DATA resultat.RP12_d35;\n",
    "SET resultat.RP12_d35;\n",
    "ECM = IPONDI*AGE;\n",
    "RUN;"
   ]
  },
  {
   "cell_type": "code",
   "execution_count": null,
   "metadata": {},
   "outputs": [],
   "source": [
    "DATA resultat.RP12_d35;\n",
    "SET resultat.RP12_d35;\n",
    "retain cumul 0;\n",
    "cumul = sum(cumul, ECM);\n",
    "run;"
   ]
  },
  {
   "cell_type": "markdown",
   "metadata": {},
   "source": [
    "**Question** : On se propose de calculer par la méthode des trapèzes l'indice de Gini en utilisant la méthode des trapèzes. \n",
    "* Calculer la table effectif par tranche d'âge (AGE_TRANCHE)\n",
    "* Créer une variable numérique CENTRE_CLASSE qui va donner le centre de la classe (moyenne de la borne inférieure et de la borne supérieure) de chaque observation. On pourra utiliser une deuxième étape DATA.\n",
    "* \n"
   ]
  }
 ],
 "metadata": {
  "kernelspec": {
   "display_name": "SAS",
   "language": "sas",
   "name": "sas"
  },
  "language_info": {
   "codemirror_mode": "sas",
   "file_extension": ".sas",
   "mimetype": "text/x-sas",
   "name": "sas"
  }
 },
 "nbformat": 4,
 "nbformat_minor": 2
}
