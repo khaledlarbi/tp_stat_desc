{
 "cells": [
  {
   "cell_type": "markdown",
   "metadata": {},
   "source": [
    "# TP 2 de Statistique descriptive avec SAS"
   ]
  },
  {
   "cell_type": "markdown",
   "metadata": {},
   "source": [
    "## Exercice 1 : Analyse univariée"
   ]
  },
  {
   "cell_type": "markdown",
   "metadata": {},
   "source": [
    "Dans cet exercice, on considère la table *pauv12dep.sas7bdat*."
   ]
  },
  {
   "cell_type": "markdown",
   "metadata": {},
   "source": [
    "**Question 1** : Créez une bibliothèque (ou library) *source* faisant le lien avec le dossier TP2/Source. Vous prendrez soin d'utiliser une option d'instruction permettant la lecture seule.\n",
    "\n",
    "Créez également une bibliothèque *resultat* qui va contenir les tables en résultat de ce TP."
   ]
  },
  {
   "cell_type": "code",
   "execution_count": null,
   "metadata": {},
   "outputs": [],
   "source": [
    "LIBNAME source \"/folders/myfolders/Donnees_TP_SAS/TP2/source\" ACCESS = READONLY;\n",
    "LIBNAME resultat \"/folders/myfolders/Donnees_TP_SAS/TP2/resultat\";"
   ]
  },
  {
   "cell_type": "markdown",
   "metadata": {},
   "source": [
    "**Question 2** : créez une copie de la table RP12_d35 dans la bibliothèque *resultat*."
   ]
  },
  {
   "cell_type": "code",
   "execution_count": null,
   "metadata": {},
   "outputs": [],
   "source": [
    "PROC CONTENTS DATA = source.pauv12dep;\n",
    "RUN;"
   ]
  },
  {
   "cell_type": "code",
   "execution_count": null,
   "metadata": {},
   "outputs": [],
   "source": [
    "PROC PRINT DATA = source.pauv12dep(obs = 20);\n",
    "RUN;"
   ]
  }
 ],
 "metadata": {
  "kernelspec": {
   "display_name": "SAS",
   "language": "sas",
   "name": "sas"
  },
  "language_info": {
   "codemirror_mode": "sas",
   "file_extension": ".sas",
   "mimetype": "text/x-sas",
   "name": "sas"
  }
 },
 "nbformat": 4,
 "nbformat_minor": 2
}
