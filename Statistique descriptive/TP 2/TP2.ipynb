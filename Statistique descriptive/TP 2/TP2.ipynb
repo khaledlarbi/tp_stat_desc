{
 "cells": [
  {
   "cell_type": "markdown",
   "metadata": {},
   "source": [
    "# TP 2 de Statistique descriptive avec SAS"
   ]
  },
  {
   "cell_type": "markdown",
   "metadata": {},
   "source": [
    "### Les formats\n",
    "\n",
    "Un format est un *masque d'affichage des données*. Cet objet permet en SAS de faciliter la lecture des tables. \n",
    "\n",
    "Il existe deux types de format : les formats (aussi appelés les formats de lecture) et les informats (ou format d'écriture).\n",
    "\n",
    "L'exemple typique d'utilisation de format est celui des formats de date. Par défaut, SAS stocke les dates sous la forme d'un entier qui correspond au nombre de jours entre la date et le 1er janvier 1960. Il s'agit donc d'une variable numérique. Il est très délicat pour un utilisateur de manipuler ces variables sous cette forme (à quoi correspond par exemple la date -4017?). Les formats de date permettent de changer l'affichage de la variable : on peut par exemple choisir d'afficher la date sous la forme Jour/Mois/Année à l'aide du format DDMMYY. ou sous la forme MoisAnnée à l'aide du format MONYY.\n",
    "\n",
    "Les formats ne s'appliquent pas uniquement sur les dates mais sur n'importe quelle variable. On peut par exemple vouloir afficher des numéros de départements sur trois positions en complétant par des zéros à gauche (001, 002 ...) ou afficher un nombre restreint de décimales.\n",
    "\n",
    "Une liste des formats est disponible ici.\n",
    "\n",
    "Pour appliquer un format à une variable, on utilisera l'instruction FORMAT dans une procédure ou dans une étape DATA.\n",
    "\n",
    "Par exemple, prenons la table AIR de la bibliothèque SASHELP."
   ]
  },
  {
   "cell_type": "markdown",
   "metadata": {},
   "source": [
    "Il est possible de créer "
   ]
  },
  {
   "cell_type": "markdown",
   "metadata": {},
   "source": [
    "## Exercice 1 : Analyse de l'âge et de la catégorie socioprofessionnelle des habitants d'Ille-et-Vilaine"
   ]
  },
  {
   "cell_type": "markdown",
   "metadata": {},
   "source": [
    "**Question 1** : Créez une bibliothèque *source* en lecture seule et une bibliothèque *resultat* ayant vocation à contenir les résultats de vos analyses."
   ]
  },
  {
   "cell_type": "markdown",
   "metadata": {},
   "source": [
    "Je pense que certains étudiants ont encore des difficultés avec ça..."
   ]
  },
  {
   "cell_type": "code",
   "execution_count": null,
   "metadata": {},
   "outputs": [],
   "source": [
    "LIBNAME source \"/folders/myfolders/Donnees_TP_SAS/TP2/Source\" ACCESS = READONLY;\n",
    "LIBNAME resultat \"/folders/myfolders/Donnees_TP_SAS/TP2/Resultat\" ;"
   ]
  },
  {
   "cell_type": "code",
   "execution_count": null,
   "metadata": {},
   "outputs": [],
   "source": [
    "PROC PRINT DATA = source.rp12_d35(obs = 20);\n",
    "RUN;"
   ]
  },
  {
   "cell_type": "markdown",
   "metadata": {},
   "source": [
    "**Question 2** : Créez un format NOMTRANCHE qui sera appliqué à la variable AGE tel qu'on associe :\n",
    "* Si $\\text{AGE} \\in [00;18[\" \\longrightarrow$ \"Enfants\"\n",
    "* Si $\\text{AGE} \\in [18;26[\" \\longrightarrow$ \"Etudiants\"\n",
    "* Si $\\text{AGE} \\in [26;40[\" \\longrightarrow$ \"Jeunes actifs\"\n",
    "* Si $\\text{AGE} \\in [40;55[\" \\longrightarrow$ \"Actifs\"\n",
    "* Si $\\text{AGE} \\in [55;65[\" \\longrightarrow$ \"Actifs expérimentés\"\n",
    "* Si $\\text{AGE} \\in [65;80[\" \\longrightarrow$ \"Jeunes seniors\"\n",
    "* Si $\\text{AGE} \\in [80;+\\infty[\" \\longrightarrow$ \"Seniors\"\n",
    "\n",
    "Créez dans la même procédure un format NOMSEXE qui sera appliqué à la variable SEXE tel qu'on associe :\n",
    "* Si SEXE = \"1\" $\\longrightarrow$ \"Homme\"\n",
    "* Si SEXE = \"2\" $\\longrightarrow$ \"Femme\"\n",
    "\n",
    "Où est stocké le format NOMTRANCHE si l'option de procédure LIBRARY n'est pas renseigné ?"
   ]
  },
  {
   "cell_type": "code",
   "execution_count": null,
   "metadata": {},
   "outputs": [],
   "source": [
    "PROC FORMAT LIBRARY = WORK;\n",
    "    VALUE NOMTRANCHE\n",
    "        LOW - 17 = \"Enfants\"\n",
    "        18 - 25 = \"Etudiants\"\n",
    "        26 - 39 = \"Jeunes actifs\"\n",
    "        40 - 54 = \"Actifs\"\n",
    "        55 - 64 = \"Actifs expérimentés\"\n",
    "        65 - 79 = \"Jeunes seniors\"\n",
    "        80 - HIGH = \"Seniors\";\n",
    "    VALUE $NOMSEXE\n",
    "        \"1\" = \"Homme\"\n",
    "        \"2\" = \"Femme\";\n",
    "RUN;"
   ]
  },
  {
   "cell_type": "markdown",
   "metadata": {},
   "source": [
    "**Question 3** : Appliquez le format NOMTRANCHE à la variable AGETRANCHE."
   ]
  },
  {
   "cell_type": "code",
   "execution_count": null,
   "metadata": {},
   "outputs": [],
   "source": [
    "DATA resultat.rp12_d35;\n",
    "SET source.rp12_d35;\n",
    "FORMAT AGE NOMTRANCHE.;\n",
    "RUN;"
   ]
  },
  {
   "cell_type": "markdown",
   "metadata": {},
   "source": [
    "**Question 4** : Vérifiez le type de la variable AGE à l'aide d'une procédure."
   ]
  },
  {
   "cell_type": "code",
   "execution_count": null,
   "metadata": {},
   "outputs": [],
   "source": [
    "PROC CONTENTS DATA = resultat.rp12_d35;\n",
    "RUN;"
   ]
  },
  {
   "cell_type": "markdown",
   "metadata": {},
   "source": [
    "**Question 4** : Importez les formats NOMTACT et NOMCS."
   ]
  },
  {
   "cell_type": "code",
   "execution_count": null,
   "metadata": {},
   "outputs": [],
   "source": [
    "OPTIONS FMTSEARCH=(work source);"
   ]
  },
  {
   "cell_type": "markdown",
   "metadata": {},
   "source": [
    "**Question 5** : À l'aide de la procédure FORMAT, récupérez des informations sur les formats NOMTACT et NOMCS."
   ]
  },
  {
   "cell_type": "code",
   "execution_count": null,
   "metadata": {},
   "outputs": [],
   "source": [
    "PROC FORMAT LIBRARY = source FMTLIB;\n",
    "RUN;"
   ]
  },
  {
   "cell_type": "markdown",
   "metadata": {},
   "source": [
    "**Question 6** : Affichez un tableau de contingence des variables AGETRANCHE et TACT en utilisant l'instruction FORMAT de la procédure FREQ. On appliquera les formats NOMTRANCHE et NOMTACT."
   ]
  },
  {
   "cell_type": "code",
   "execution_count": null,
   "metadata": {},
   "outputs": [],
   "source": [
    "PROC FREQ DATA = resultat.RP12_d35;\n",
    "TABLE AGE * TACT / NOPCT NOROWPCT NOCOLPCT;\n",
    "FORMAT AGE NOMTRANCHE.\n",
    "    TACT $NOMTACT.;\n",
    "WEIGHT IPONDI;\n",
    "RUN;"
   ]
  },
  {
   "cell_type": "markdown",
   "metadata": {},
   "source": [
    "**Question 7**  : Stockez la table précédente dans la bibliothèque *resultat*. On nommera la table *table_contingence*. On pourra utiliser une option de procédure adaptée.\n",
    "\n",
    "À l'aide d'une procédure PRINT, affichez le résultat obtenu. Le résultat correspond à la table affichée à la question précédente ?"
   ]
  },
  {
   "cell_type": "code",
   "execution_count": null,
   "metadata": {},
   "outputs": [],
   "source": [
    "PROC FREQ DATA = resultat.RP12_d35;\n",
    "TABLE AGE * TACT / OUT = resultat.table_contingence;\n",
    "FORMAT AGE NOMTRANCHE.\n",
    "    TACT $NOMTACT.;\n",
    "WEIGHT IPONDI;\n",
    "RUN;\n",
    "\n",
    "PROC PRINT DATA = resultat.table_contingence(obs = 20);\n",
    "RUN;"
   ]
  },
  {
   "cell_type": "markdown",
   "metadata": {},
   "source": [
    "**Question 8** : En utilisant la procédure TRANSPOSE, créez une table *vraie_table_contingence* dans la bibliothèque *resultat* qui contiendra la table de contingence telle qu'elle est affichée dans l'ODS HTML."
   ]
  },
  {
   "cell_type": "code",
   "execution_count": null,
   "metadata": {},
   "outputs": [],
   "source": [
    "PROC TRANSPOSE DATA = resultat.table_contingence OUT = resultat.vraie_table_contingence(drop= _name_ _label_);\n",
    "BY AGE;\n",
    "VAR COUNT;\n",
    "ID TACT;\n",
    "RUN;\n",
    "\n",
    "PROC PRINT DATA = resultat.vraie_table_contingence;\n",
    "RUN;"
   ]
  },
  {
   "cell_type": "markdown",
   "metadata": {},
   "source": [
    "**Question 8** : Affichez le tableau des fréquences conditionnelles par ligne (aussi appelé tableau des profils-lignes) du tableau de contingence précédent.\n",
    "\n",
    "Quelles sont les types d'activités sur-représentés chez les étudiants ? Quid chez les seniors ?"
   ]
  },
  {
   "cell_type": "code",
   "execution_count": null,
   "metadata": {},
   "outputs": [],
   "source": [
    "PROC FREQ DATA = resultat.RP12_d35;\n",
    "TABLE AGE * TACT / NOCOL NOFREQ;\n",
    "FORMAT AGE NOMTRANCHE.\n",
    "    TACT $NOMTACT.;\n",
    "WEIGHT IPONDI;\n",
    "RUN;"
   ]
  },
  {
   "cell_type": "markdown",
   "metadata": {},
   "source": [
    "Chez les étudiants : Actifs ayant un emploi, Chômeurs, Elèves\n",
    "Chez les seniors : Retraités, Femmes ou hommes au foyer\n",
    "\n",
    "Ne pas hésitez à dire aux étudiants de bien comparer la valeur observé dans une case avec la fréquence dans la population globale. Par exemple, pour les étudiants, 44,17% sont actifs ayant un emploi contre 43.20% dans la population totale. On a bien une sur-représentation."
   ]
  },
  {
   "cell_type": "markdown",
   "metadata": {},
   "source": [
    "**Question 9** : Rappelez la définition de la statistique du Khi-Deux. Dans le cas du tableau de contingence de la question 6, dans quel intervalle est comprise la statistique du Khi-Deux ?\n",
    "\n",
    "Discutez du cas où la statistique est nulle. \n",
    "\n",
    "À l'aide d'une procédure FREQ, calculez la valeur de cette statistique. Pouvez vous conclure ? Utilisez un indicateur dérivé à la place."
   ]
  },
  {
   "cell_type": "markdown",
   "metadata": {},
   "source": [
    "**Réponse :**\n",
    "\n",
    "La statistique du Khi-Deux est donnée ici par $\\displaystyle \\chi^2 = \\sum_{i = 1}^7 \\sum_{j = 1}^7 \\frac{(n_{ij} - \\frac{n_{i\\bullet}n_{\\bullet j}}{n})^2}{\\frac{n_{i\\bullet}n_{\\bullet j}}{n}}$ où $n_{ij}$ désigne l'entrée (i,j) du tableau de contingence.\n",
    "\n",
    "N'hésitez pas à montrer qu'il s'agit en un certain sens d'une distance entre effectif théorique (dans le cas où les deux variables sont indépendantes) et effectif observé.\n",
    "\n",
    "$\\chi^2 \\in [0; 6 = min(I-1, J-1)]$ (I et J désignant le nombre de modalités de chaque variable).\n",
    "\n",
    "$\\displaystyle \\chi^2 = 0 \\Longrightarrow n_{ij} = \\frac{n_{i\\bullet}n_{\\bullet j}}{n}$ (car il s'agit d'une somme de termes positifs nulle) $\\Longrightarrow f_{ij} = f_{i\\bullet} f_{\\bullet j}$. Il s'agit d'une situation où les deux variables qualitatives sont indépendantes.\n",
    "\n",
    "Les étudiants n'ont pas encore vu que sous des hypothèses asymptotiques, la statistique du $\\chi^2$ était distribué selon une loi qui porte le même nom et donc qu'ils peuvent réaliser un test d'hypothèse. À la place, ils ont des indicateurs comme le coefficient de contingence ou le V de Cramer."
   ]
  },
  {
   "cell_type": "code",
   "execution_count": null,
   "metadata": {},
   "outputs": [],
   "source": [
    "PROC FREQ DATA = resultat.RP12_d35;\n",
    "TABLE AGE * TACT / NOCOL NOFREQ CHISQ;\n",
    "WEIGHT IPONDI;\n",
    "RUN;"
   ]
  },
  {
   "cell_type": "markdown",
   "metadata": {},
   "source": [
    "**Question 10** : À l'aide d'une procédure TABULATE (on pourra utiliser les explications sur la procédure TABULATE en préambule du [TP1](https://foad-moodle.ensai.fr/mod/resource/view.php?id=1052)), réalisez le tableau suivant :\n",
    "\n",
    "![Tableau](https://i.ibb.co/qkS6QGM/tableau-q10.png)"
   ]
  },
  {
   "cell_type": "markdown",
   "metadata": {},
   "source": [
    "Pour rappel, on peut obtenir les effectifs pondérés d'un ensemble d'individus en faisant la somme des poids des individus enquêtés dans le groupe."
   ]
  },
  {
   "cell_type": "code",
   "execution_count": null,
   "metadata": {},
   "outputs": [],
   "source": [
    "PROC TABULATE DATA = resultat.RP12_d35;\n",
    "TABLES (AGE ALL) * SEXE , TACT*IPONDI*(SUM =\"Effectif pondéré\");\n",
    "FORMAT AGE NOMTRANCHE.\n",
    "TACT $NOMTACT.\n",
    "SEXE $NOMSEXE.;\n",
    "VAR IPONDI;\n",
    "CLASS AGE SEXE TACT;\n",
    "RUN;"
   ]
  },
  {
   "cell_type": "markdown",
   "metadata": {},
   "source": [
    "**Question 11** : Modifiez le code précédent de manière à afficher les profils-lignes (on pourra utiliser l'option ROWPCTSUM). Stockez cette table sous la forme d'une table SAS dans la bibliothèque *resultat*. Cette table se nommera *table_crois1*. "
   ]
  },
  {
   "cell_type": "code",
   "execution_count": null,
   "metadata": {},
   "outputs": [],
   "source": [
    "PROC TABULATE DATA = resultat.RP12_d35 OUT = resultat.table_crois1;\n",
    "TABLES (AGE ALL) * SEXE , TACT*IPONDI*(ROWPCTSUM =\"Effectif pondéré\");\n",
    "FORMAT AGE NOMTRANCHE.\n",
    "TACT $NOMTACT.\n",
    "SEXE $NOMSEXE.;\n",
    "VAR IPONDI;\n",
    "CLASS AGE SEXE TACT;\n",
    "RUN;\n"
   ]
  },
  {
   "cell_type": "markdown",
   "metadata": {},
   "source": [
    "## Exercice 2 : Etude de la mobilité sociale intergénérationnelle"
   ]
  },
  {
   "cell_type": "markdown",
   "metadata": {},
   "source": [
    "Dans cet exercice, on va considérer la table *fdp*. Cette table contient pour chaque individu (individu) sa catégorie socioprofessionelle (CSFils) et celle de son père (CSPere). On retrouve également une variable identificatrice (id)."
   ]
  },
  {
   "cell_type": "markdown",
   "metadata": {},
   "source": [
    "**Question 1** : Combien de variables non numérique contient cette table ? Combien d'observations ?"
   ]
  },
  {
   "cell_type": "code",
   "execution_count": null,
   "metadata": {},
   "outputs": [],
   "source": [
    "PROC CONTENTS DATA = source.fqp;\n",
    "RUN;"
   ]
  },
  {
   "cell_type": "markdown",
   "metadata": {},
   "source": [
    "**Question 2** : À l'aide d'une procédure FREQ, affichez le nombre de modalités des variables CSFils et CSPere."
   ]
  },
  {
   "cell_type": "code",
   "execution_count": null,
   "metadata": {},
   "outputs": [],
   "source": [
    "PROC FREQ DATA = source.fqp(keep = CSFils CSPere) NLEVELS;\n",
    "RUN;"
   ]
  },
  {
   "cell_type": "markdown",
   "metadata": {},
   "source": [
    "**Question 3** : Créez un format CS qui associe à \n",
    "* \"1\" $\\longrightarrow$ Agriculture\n",
    "* \"2\" $\\longrightarrow$ Artisan\n",
    "* \"3\" $\\longrightarrow$ Cadre et PIS\n",
    "* \"4\" $\\longrightarrow$ Professions intermédiaires\n",
    "* \"5\" $\\longrightarrow$ Employé\n",
    "* \"6\" $\\longrightarrow$ Ouvrier"
   ]
  },
  {
   "cell_type": "code",
   "execution_count": null,
   "metadata": {},
   "outputs": [],
   "source": [
    "PROC FORMAT;\n",
    "    VALUE $CS\n",
    "    \"CS1\" = \"Agriculture\"\n",
    "    \"CS2\" = \"Artisan\"\n",
    "    \"CS3\" = \"Cadre et PIS\"\n",
    "    \"CS4\" = \"Professions intermédiaires\"\n",
    "    \"CS5\" = \"Employé\"\n",
    "    \"CS6\" = \"Ouvrier\"\n",
    ";\n",
    "RUN;"
   ]
  },
  {
   "cell_type": "markdown",
   "metadata": {},
   "source": [
    "**Question 4** : Affichez le tableau de contingence des variables CSFils (en ligne) et CSPere (en colonne). On appliquera ces deux variables le format CS."
   ]
  },
  {
   "cell_type": "markdown",
   "metadata": {},
   "source": [
    "**Bien indiquer aux étudiants d'utiliser la pondération.**"
   ]
  },
  {
   "cell_type": "code",
   "execution_count": null,
   "metadata": {},
   "outputs": [],
   "source": [
    "PROC FREQ DATA = source.fqp;\n",
    "TABLE CSFils * CSPere / NOPERCENT NOCOL NOROW FORMAT=10.;\n",
    "FORMAT CSFils $CS.\n",
    "    CSPere $CS.;\n",
    "WEIGHT POIDS;\n",
    "RUN;"
   ]
  },
  {
   "cell_type": "markdown",
   "metadata": {},
   "source": [
    "**Question 5** : Affichez le tableau des fréquences conditionnelles par ligne (aussi appelé tableau des profils-lignes). Les sociologues appellent cette table la table des recrutements. Pourquoi ? Comment interpréter le 88.42% à l'intersection des modalités Agriculture des deux variables ?\n",
    "\n",
    "Dans une situation de fluidité sociale, comment serait la table des recrutements ? Quid dans le cas d'une absence totale de mobilité sociale ?"
   ]
  },
  {
   "cell_type": "code",
   "execution_count": null,
   "metadata": {},
   "outputs": [],
   "source": [
    "PROC FREQ DATA = source.fqp;\n",
    "TABLE CSFils * CSPere / NOPERCENT NOCOL NOFREQ FORMAT=10.;\n",
    "FORMAT CSFils $CS.\n",
    "    CSPere $CS.;\n",
    "WEIGHT POIDS;\n",
    "RUN;"
   ]
  },
  {
   "cell_type": "markdown",
   "metadata": {},
   "source": [
    "**Question 6** : Calculez la statistique du Khi-Deux des variables CS1 et CS2. \n",
    "\n",
    "Imaginons qu'on s'intéresse au lien entre les variables CS1 et CS2 directement sur les personnes interrogés sans prendre en compte la pondération (soit 6 947 individus). La pondération étant uniforme (même poids pour chaque individu), est-ce que les distributions (au sens des fréquences) de chacunes des variables changent ? Calculez la statistique du Khi-Deux des variables CS1 et CS1 sur les 6 947 individus interrogés. Que remarquez-vous ? Donnez un \"inconvénient\" de cette statistique."
   ]
  },
  {
   "cell_type": "markdown",
   "metadata": {},
   "source": [
    "**Réponse** : La distribution en terme de fréquence va rester la même. Pour autant la statistique du Khi-Deux sera plus faible alors que le lien entre les variables est le même. À structure donnée, la statistique du Khi-Deux est fonction croissante des effectifs. On pourra insister sur le choix des unités dans un tableau de contingence. Les étudiants n'ont pas encore vu le cours de test d'hypothèse : on ne pourra parler du lien entre puissance du tests d'hypothèses et effectifs."
   ]
  },
  {
   "cell_type": "code",
   "execution_count": null,
   "metadata": {},
   "outputs": [],
   "source": [
    "PROC FREQ DATA = source.fqp;\n",
    "TABLE CSFils * CSPere / CHISQ;\n",
    "FORMAT CSFils $CS.\n",
    "    CSPere $CS.;\n",
    "WEIGHT POIDS;\n",
    "RUN;\n",
    "\n",
    "PROC FREQ DATA = source.fqp;\n",
    "TABLE CSFils * CSPere / CHISQ;\n",
    "FORMAT CSFils $CS.\n",
    "    CSPere $CS.;\n",
    "RUN;\n"
   ]
  }
 ],
 "metadata": {
  "kernelspec": {
   "display_name": "SAS",
   "language": "sas",
   "name": "sas"
  },
  "language_info": {
   "codemirror_mode": "sas",
   "file_extension": ".sas",
   "mimetype": "text/x-sas",
   "name": "sas"
  }
 },
 "nbformat": 4,
 "nbformat_minor": 2
}
