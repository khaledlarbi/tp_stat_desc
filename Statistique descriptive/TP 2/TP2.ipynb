{
 "cells": [
  {
   "cell_type": "markdown",
   "metadata": {},
   "source": [
    "# TP 2 de Statistique descriptive avec SAS"
   ]
  },
  {
   "cell_type": "markdown",
   "metadata": {},
   "source": [
    "### Les formats\n",
    "\n",
    "Un format est un *masque d'affichage des données*. Cet objet permet en SAS de faciliter la lecture des tables. \n",
    "\n",
    "Il existe deux types de format : les formats (aussi appelés les formats de lecture) et les informats (ou format d'écriture).\n",
    "\n",
    "L'exemple typique d'utilisation de format est celui des formats de date. Par défaut, SAS stocke les dates sous la forme d'un entier qui correspond au nombre de jours entre la date et le 1er janvier 1960. Il s'agit donc d'une variable numérique. Il est très délicat pour un utilisateur de manipuler ces variables sous cette forme (à quoi correspond par exemple la date -4017?). Les formats de date permettent de changer l'affichage de la variable : on peut par exemple choisir d'afficher la date sous la forme Jour/Mois/Année à l'aide du format DDMMYY. ou sous la forme MoisAnnée à l'aide du format MONYY.\n",
    "\n",
    "Les formats ne s'appliquent pas uniquement sur les dates mais sur n'importe quelle variable. On peut par exemple vouloir afficher des numéros de départements sur trois positions en complétant par des zéros à gauche (001, 002 ...) ou afficher un nombre restreint de décimales.\n",
    "\n",
    "Une liste des formats est disponible ici.\n",
    "\n",
    "Pour appliquer un format à une variable, on utilisera l'instruction FORMAT dans une procédure ou dans une étape DATA.\n",
    "\n",
    "Par exemple, prenons la table AIR de la bibliothèque SASHELP."
   ]
  },
  {
   "cell_type": "markdown",
   "metadata": {},
   "source": [
    "Il est possible de créer "
   ]
  },
  {
   "cell_type": "markdown",
   "metadata": {},
   "source": [
    "## Exercice 1 : Analyse univariée"
   ]
  },
  {
   "cell_type": "markdown",
   "metadata": {},
   "source": [
    "Dans cet exercice, on considère la table *pauv12dep.sas7bdat*."
   ]
  },
  {
   "cell_type": "markdown",
   "metadata": {},
   "source": [
    "**Question 1** : Créez une bibliothèque (ou library) *source* faisant le lien avec le dossier TP2/Source. Vous prendrez soin d'utiliser une option d'instruction permettant la lecture seule.\n",
    "\n",
    "Créez également une bibliothèque *resultat* qui va contenir les tables en résultat de ce TP."
   ]
  },
  {
   "cell_type": "code",
   "execution_count": null,
   "metadata": {},
   "outputs": [],
   "source": [
    "LIBNAME source \"/folders/myfolders/Donnees_TP_SAS/TP2/source\" ACCESS = READONLY;\n",
    "LIBNAME resultat \"/folders/myfolders/Donnees_TP_SAS/TP2/resultat\";"
   ]
  },
  {
   "cell_type": "markdown",
   "metadata": {},
   "source": [
    "**Question 2** : créez une copie de la table RP12_d35 dans la bibliothèque *resultat*."
   ]
  },
  {
   "cell_type": "code",
   "execution_count": null,
   "metadata": {},
   "outputs": [],
   "source": [
    "PROC CONTENTS DATA = source.pauv12dep;\n",
    "RUN;"
   ]
  },
  {
   "cell_type": "markdown",
   "metadata": {},
   "source": [
    "## Exercice 2 : Analyse de l'âge et de la catégorie socioprofessionnelle des habitants d'Ille-et-Vilaine"
   ]
  }
 ],
 "metadata": {
  "kernelspec": {
   "display_name": "SAS",
   "language": "sas",
   "name": "sas"
  },
  "language_info": {
   "codemirror_mode": "sas",
   "file_extension": ".sas",
   "mimetype": "text/x-sas",
   "name": "sas"
  }
 },
 "nbformat": 4,
 "nbformat_minor": 2
}
