{
 "cells": [
  {
   "cell_type": "markdown",
   "metadata": {},
   "source": [
    "# TP 4 de Statistique descriptive avec SAS"
   ]
  },
  {
   "cell_type": "markdown",
   "metadata": {},
   "source": [
    "Objectifs de la séance : \n",
    "* Utiliser l'étape DATA afin de concaténer et fusionner des tables,\n",
    "* Lire des tables dans un format différent de **sas7bdat**,\n",
    "* Utiliser des formats,\n",
    "* Réaliser une analyse univariée et une analyse bivariée.\n"
   ]
  },
  {
   "cell_type": "markdown",
   "metadata": {},
   "source": [
    "\"Le RMS Titanic est un paquebot transatlantique britannique qui fait naufrage dans l'océan Atlantique Nord en 1912 à la suite d'une collision avec un iceberg, lors de son voyage inaugural de Southampton à New York. Entre 1 490 et 1 520 personnes trouvent la mort, ce qui fait de cet événement l'une des plus grandes catastrophes maritimes survenues en temps de paix et la plus grande pour l'époque.\" (Source : Wikipédia)\n",
    "\n",
    "Le but de ce TP est d'étudier les différences de caractériques entre les passagers et d'essayer de déterminer des profils particuliers parmi ceux qui ont survécu.\n",
    "\n",
    "Pour se faire, nous disposons de quatre tables :\n",
    "\n",
    "| Nom de la table | Extension |                           Descriptif                          |\n",
    "|:---------------:|:---------:|:-------------------------------------------------------------:|\n",
    "| titanic_client1 |    csv    | Informations relatives aux individus voyageant en 1ère classe |\n",
    "| titanic_client2 |    csv    | Informations relatives aux individus voyageant en 2ème classe |\n",
    "| titanic_client3 |    csv    | Informations relatives aux individus voyageant en 3ème classe |\n",
    "|  titanic_place  |    xls    |            Informations sur la place des individus            |"
   ]
  },
  {
   "cell_type": "markdown",
   "metadata": {},
   "source": [
    "Le dictionnaire des variables des tables *titanic_clientn* est :\n",
    "\n",
    "|     Nom    |                   Libellé                   |\n",
    "|:----------:|:-------------------------------------------:|\n",
    "|     id     |                 Identifiant                 |\n",
    "|  Civilite  |                   Civilité                  |\n",
    "|     Age    |              Âge de l'individu              |\n",
    "| EpouseFrat | Nombre de frères, soeurs ou époux.se à bord |\n",
    "| ParentsEnf |     Nombre de parents ou enfants à bord     |\n"
   ]
  },
  {
   "cell_type": "markdown",
   "metadata": {},
   "source": [
    "Le dictionnaire des variables de la table *titanic_place* est : \n",
    "\n",
    "|     Nom    |                              Libellé                              |\n",
    "|:----------:|:-----------------------------------------------------------------:|\n",
    "|     id     |                     Identifiant de l'individu                     |\n",
    "|   Classe   |                   Classe du billet de l'individu                  |\n",
    "|   Survie   | Indicatrice de survie (vaut 1 si l'individu a survécu et 0 sinon) |\n",
    "|    Prix    |                    Prix du billet de l'individu                   |\n",
    "| PortEmbarq |                 Port d'embarquement de l'individu                 |"
   ]
  },
  {
   "cell_type": "markdown",
   "metadata": {},
   "source": [
    "Les données sont sur Moodle blabla"
   ]
  },
  {
   "cell_type": "markdown",
   "metadata": {},
   "source": [
    "## Exercice 1 : Préparation des données"
   ]
  },
  {
   "cell_type": "markdown",
   "metadata": {},
   "source": [
    "**Question 1** : Définissez deux bibliothèques *source* et *resultat*. Vous déposerez les quatre tables \n",
    "\n",
    "Est-ce que les quatre tables sont visibles dans la bibliothèque *source* ? Pourquoi ?"
   ]
  },
  {
   "cell_type": "markdown",
   "metadata": {},
   "source": [
    "**Question 2** : À l'aide d'une étape DATA et des instructions INFILE et INPUT, créez les tables *donnees_c1* (à l'aide de la table titanic_client1.csv) et *donnees_c2* (à l'aide de la table titanic_client2.csv) dans la bibliothèque Work. On utilisera une étape DATA par table."
   ]
  },
  {
   "cell_type": "markdown",
   "metadata": {},
   "source": [
    "**Question 3** : À l'aide d'une procédure IMPORT, créez la table donnees_c3 dans la bibliothèque Work. "
   ]
  },
  {
   "cell_type": "markdown",
   "metadata": {},
   "source": [
    "**Question** : Sachant que l'identifiant est une variable texte de la forme \"idxxxx\", vérifiez en utilisant une procédure la taille des variables de la table *donnees_c3*."
   ]
  },
  {
   "cell_type": "markdown",
   "metadata": {},
   "source": [
    "**Question** : Relancez la procédure IMPORT en utilisant l'instruction GUESSINGROWS."
   ]
  },
  {
   "cell_type": "markdown",
   "metadata": {},
   "source": [
    "**Question 4** : À l'aide d'une étape DATA, concaténez les tables donnees_c1, donnees_c2 et donnees_c3 en une table donnees_client. Cette table sera stockée dans la bibliothèque *source*.\n",
    "\n",
    "On pourra modifier la longueur de la variable *id* des tables donnees_c1 et donnees_c2."
   ]
  },
  {
   "cell_type": "markdown",
   "metadata": {},
   "source": [
    "**Question** : Créez la bibliothèque donnees_p pointant vers le fichier *titanic_place.xlsx*. On utilisera le moteur XLSX.\n",
    "Puis à l'aide d'une étape DATA, créez une copie de la table dans la bibliothèque *source* qui nommera donnees_place."
   ]
  },
  {
   "cell_type": "markdown",
   "metadata": {},
   "source": [
    "**Question** : La table donnees_place convient des doublons. Supprimez-les en utilisant une procédure SORT et l'option de procédure NODUPKEY."
   ]
  },
  {
   "cell_type": "markdown",
   "metadata": {},
   "source": [
    "**Question** : À l'aide d'une étape DATA, fusionnez les tables donnees_client et donnees_place. On utilisera la variable *id* comme clef. La table sera stockée dans la bibliothèque *source* et se nommera *titanic*."
   ]
  },
  {
   "cell_type": "markdown",
   "metadata": {},
   "source": [
    "**Question** : À l'aide d'une procédure MEANS, affichez le nombre de valeurs manquantes pour la variable Age.\n",
    "\n",
    "Créez une table titanic_svm dans la bibliothèque *resultat* qui contiendra uniquement les observations de la table *titanic* de la bibliothèque *source* dont l'âge n'est pas manquant."
   ]
  },
  {
   "cell_type": "markdown",
   "metadata": {},
   "source": [
    "**Question** : À l'aide d'une étape DATA, crééz une table titanic_appur dans la bibliothèque *resultat* qui contiendra uniquement les observations de la table *titanic* de la bibliothèque *source* dont toutes les variables"
   ]
  },
  {
   "cell_type": "markdown",
   "metadata": {},
   "source": [
    "*Question* : Créez un format qui associera pour chaque titre de civilité, le sexe de l'individu (\"Homme\" ou \"Femme\").\n",
    "\n",
    "On fera les hypothèses suivantes : \n",
    "*"
   ]
  }
 ],
 "metadata": {
  "kernelspec": {
   "display_name": "SAS",
   "language": "sas",
   "name": "sas"
  },
  "language_info": {
   "codemirror_mode": "sas",
   "file_extension": ".sas",
   "mimetype": "text/x-sas",
   "name": "sas"
  }
 },
 "nbformat": 4,
 "nbformat_minor": 2
}
