{
 "cells": [
  {
   "cell_type": "markdown",
   "metadata": {},
   "source": [
    "# TP 4 de Statistique descriptive avec SAS"
   ]
  },
  {
   "cell_type": "markdown",
   "metadata": {},
   "source": [
    "Objectifs de la séance : \n",
    "* Utiliser l'étape DATA afin de concaténer et fusionner des tables,\n",
    "* Lire des tables dans un format différent de **sas7bdat** (en utilisant l'instruction INFILE, la procédure IMPORT ou les moteurs de l'instruction LIBNAME),\n",
    "* Utiliser des formats,\n",
    "* Réaliser une analyse univariée et une analyse bivariée.\n"
   ]
  },
  {
   "cell_type": "markdown",
   "metadata": {},
   "source": [
    ">Le RMS Titanic est un paquebot transatlantique britannique qui fait naufrage dans l'océan Atlantique Nord en 1912 à la suite d'une collision avec un iceberg, lors de son voyage inaugural de Southampton à New York. Entre 1 490 et 1 520 personnes trouvent la mort, ce qui fait de cet événement l'une des plus grandes catastrophes maritimes survenues en temps de paix et la plus grande pour l'époque. (Source : Wikipédia)\n",
    "\n",
    "Le but de ce TP est d'étudier les différences de caractériques entre les passagers et d'essayer de déterminer des profils particuliers parmi ceux qui ont survécu.\n",
    "\n",
    "Pour se faire, nous disposons de quatre tables :\n",
    "\n",
    "| Nom de la table | Extension |                           Descriptif                          |\n",
    "|:---------------:|:---------:|:-------------------------------------------------------------:|\n",
    "| titanic_client1 |    csv    | Informations relatives aux individus voyageant en 1ère classe |\n",
    "| titanic_client2 |    csv    | Informations relatives aux individus voyageant en 2ème classe |\n",
    "| titanic_client3 |    csv    | Informations relatives aux individus voyageant en 3ème classe |\n",
    "|  titanic_place  |    xls    |            Informations sur la place des individus            |"
   ]
  },
  {
   "cell_type": "markdown",
   "metadata": {},
   "source": [
    "Le dictionnaire des variables des tables *titanic_clientn* est :\n",
    "\n",
    "|     Nom    |                   Libellé                   |\n",
    "|:----------:|:-------------------------------------------:|\n",
    "|     id     |                 Identifiant                 |\n",
    "|  Civilite  |                   Civilité                  |\n",
    "|     Age    |              Âge de l'individu              |\n",
    "| EpouseFrat | Nombre de frères, soeurs ou époux.se à bord |\n",
    "| ParentsEnf |     Nombre de parents ou enfants à bord     |\n"
   ]
  },
  {
   "cell_type": "markdown",
   "metadata": {},
   "source": [
    "Le dictionnaire des variables de la table *titanic_place* est : \n",
    "\n",
    "|     Nom    |                              Libellé                              |\n",
    "|:----------:|:-----------------------------------------------------------------:|\n",
    "|     id     |                     Identifiant de l'individu                     |\n",
    "|   Classe   |                   Classe du billet de l'individu                  |\n",
    "|   Survie   | Indicatrice de survie (vaut 1 si l'individu a survécu et 0 sinon) |\n",
    "|    Prix    |                    Prix du billet de l'individu                   |\n",
    "| PortEmbarq |                 Port d'embarquement de l'individu                 |"
   ]
  },
  {
   "cell_type": "markdown",
   "metadata": {},
   "source": [
    "Les données sont sur Moodle blabla"
   ]
  },
  {
   "cell_type": "markdown",
   "metadata": {},
   "source": [
    "## Exercice 1 : Préparation des données"
   ]
  },
  {
   "cell_type": "markdown",
   "metadata": {},
   "source": [
    "**Question 1** : Définissez deux bibliothèques *source* et *resultat*. Vous déposerez les quatre tables \n",
    "\n",
    "Est-ce que les quatre tables sont visibles dans la bibliothèque *source* ? Pourquoi ?"
   ]
  },
  {
   "cell_type": "markdown",
   "metadata": {},
   "source": [
    "**Réponse** : Par défaut, le moteur utilisé dans l'instruction LIBNAME est le moteur V9 qui ne permet de lire que des tables crées dans une version postérieure à SAS 9.x.\n",
    "Ici, il s'agit de fichiers au format *csv*."
   ]
  },
  {
   "cell_type": "code",
   "execution_count": null,
   "metadata": {},
   "outputs": [],
   "source": [
    "LIBNAME source \"/folders/myfolders/Donnees_TP_SAS/TP4\";\n",
    "LIBNAME resultat \"/folders/myfolders/Donnees_TP_SAS/TP4\";"
   ]
  },
  {
   "cell_type": "markdown",
   "metadata": {},
   "source": [
    "**Question 2** : À l'aide d'une étape DATA et des instructions INFILE et INPUT, créez les tables *donnees_c1* (à l'aide de la table titanic_client1.csv) et *donnees_c2* (à l'aide de la table titanic_client2.csv) dans la bibliothèque Work. On utilisera une étape DATA par table."
   ]
  },
  {
   "cell_type": "code",
   "execution_count": null,
   "metadata": {},
   "outputs": [],
   "source": [
    "DATA donnees_C1;\n",
    "INFILE \"/folders/myfolders/Donnees_TP_SAS/TP4/titanic_client1.csv\" FIRSTOBS = 2 DLM = \",\" DSD MISSOVER;\n",
    "INPUT id $ Civilite $ Age EpouseFrat ParentsEnf;\n",
    "RUN;"
   ]
  },
  {
   "cell_type": "code",
   "execution_count": null,
   "metadata": {},
   "outputs": [],
   "source": [
    "DATA donnees_C2;\n",
    "INFILE \"/folders/myfolders/Donnees_TP_SAS/TP4/titanic_client2.csv\"  FIRSTOBS = 2 DLM = \",\" DSD MISSOVER;\n",
    "INPUT id $ Civilite $ Age EpouseFrat ParentsEnf;\n",
    "RUN;"
   ]
  },
  {
   "cell_type": "markdown",
   "metadata": {},
   "source": [
    "**Question 3** : À l'aide d'une procédure IMPORT, créez la table donnees_c3 dans la bibliothèque Work. "
   ]
  },
  {
   "cell_type": "code",
   "execution_count": null,
   "metadata": {},
   "outputs": [],
   "source": [
    "PROC IMPORT DATAFILE = \"/folders/myfolders/Donnees_TP_SAS/TP4/titanic_client3.csv\" OUT = donnees_c3 DBMS = CSV;\n",
    "DELIMITER = \",\";\n",
    "RUN;"
   ]
  },
  {
   "cell_type": "markdown",
   "metadata": {},
   "source": [
    "**Question** : Sachant que l'identifiant est une variable texte de la forme \"idxxxx\", vérifiez en utilisant une procédure la taille des variables de la table *donnees_c3*."
   ]
  },
  {
   "cell_type": "code",
   "execution_count": null,
   "metadata": {},
   "outputs": [],
   "source": [
    "PROC CONTENTS DATA = donnees_c3;\n",
    "RUN;"
   ]
  },
  {
   "cell_type": "markdown",
   "metadata": {},
   "source": [
    "**Réponse** : L'identifiant *id* dans cette table est de longueur 5 alors qu'il est censé être de longueur 6 (car de la forme \"idxxxx\"). Il faut relancer une procédure IMPORT en utilisant GUESSINGROWS. De base, dans la procédure PROC IMPORT, SAS lit un certain nombre d'observations pour déterminer les longueurs des variables. Par exemple, si les deux premieres observations ont comme identifiant *id101* et *id102* alors SAS va assigner une longueur de 5 à cette variable même si la suivante est *id1000*.\n",
    "\n",
    "En utilisant l'instruction GUESSINGROWS, on peut lui indiquer le nombre de lignes à lire pour déterminer la longueur des variables."
   ]
  },
  {
   "cell_type": "markdown",
   "metadata": {},
   "source": [
    "**Question** : Relancez la procédure IMPORT en utilisant l'instruction GUESSINGROWS."
   ]
  },
  {
   "cell_type": "code",
   "execution_count": null,
   "metadata": {},
   "outputs": [],
   "source": [
    "PROC IMPORT DATAFILE = \"/folders/myfolders/Donnees_TP_SAS/TP4/titanic_client3.csv\" OUT = donnees_c3 DBMS = CSV REPLACE;\n",
    "/* il est nécessaire d'ajouter l'option de procédure REPLACE pour écraser l'ancienne table */\n",
    "DELIMITER = \",\";\n",
    "GUESSINGROWS = 708; /* qui correspond au nombre d'observations de la table */\n",
    "RUN;"
   ]
  },
  {
   "cell_type": "markdown",
   "metadata": {},
   "source": [
    "**Question 4** : À l'aide d'une étape DATA, concaténez les tables donnees_c1, donnees_c2 et donnees_c3 en une table donnees_client. Cette table sera stockée dans la bibliothèque *source*.\n",
    "\n",
    "On pourra modifier la longueur de la variable *id* des tables donnees_c1 et donnees_c2."
   ]
  },
  {
   "cell_type": "code",
   "execution_count": null,
   "metadata": {},
   "outputs": [],
   "source": [
    "DATA source.donnees_client;\n",
    "SET donnees_c1 donnees_c2 donnees_c3;\n",
    "RUN;"
   ]
  },
  {
   "cell_type": "markdown",
   "metadata": {},
   "source": [
    "**Question** : Créez la bibliothèque *donneesp* pointant vers le fichier *titanic_place.xlsx*. On utilisera le moteur XLSX.\n",
    "Puis à l'aide d'une étape DATA, créez une copie de la table dans la bibliothèque *source* qui nommera donnees_place."
   ]
  },
  {
   "cell_type": "code",
   "execution_count": null,
   "metadata": {},
   "outputs": [],
   "source": [
    "LIBNAME donneesp XLSX \"/folders/myfolders/Donnees_TP_SAS/TP4/titanic_place.xlsx\";\n",
    "\n",
    "DATA source.donnees_place;\n",
    "SET donneesp.titanicplace;\n",
    "RUN;"
   ]
  },
  {
   "cell_type": "markdown",
   "metadata": {},
   "source": [
    "**Question** : La table donnees_client contient un doublon. Supprimez-le en utilisant une procédure SORT et l'option de procédure NODUPKEY."
   ]
  },
  {
   "cell_type": "code",
   "execution_count": null,
   "metadata": {},
   "outputs": [],
   "source": [
    "PROC SORT DATA = source.donnees_client NODUPKEY;\n",
    "BY id;\n",
    "RUN;"
   ]
  },
  {
   "cell_type": "markdown",
   "metadata": {},
   "source": [
    "**Réponse** : On lit dans la LOG que \"NOTE: 1 observations with duplicate key values were deleted.\""
   ]
  },
  {
   "cell_type": "markdown",
   "metadata": {},
   "source": [
    "**Question** : À l'aide d'une étape DATA, fusionnez les tables donnees_client et donnees_place. On utilisera la variable *id* comme clef et on ne gardera que les observations dont l'identifiant est présent dans les deux tables (en cours de BDR, on parle d'*inner join*). La table sera stockée dans la bibliothèque *source* et se nommera *titanic*."
   ]
  },
  {
   "cell_type": "code",
   "execution_count": null,
   "metadata": {},
   "outputs": [],
   "source": [
    "DATA source.titanic;\n",
    "MERGE source.donnees_client(in=client) source.donnees_place(in=place);\n",
    "IF client and place THEN OUTPUT;\n",
    "RUN;"
   ]
  },
  {
   "cell_type": "markdown",
   "metadata": {},
   "source": [
    "**Question** : À l'aide d'une procédure MEANS, affichez le nombre de valeurs manquantes pour la variable Age.\n",
    "\n",
    "Créez une table titanic_svm dans la bibliothèque *resultat* qui contiendra uniquement les observations de la table *titanic* de la bibliothèque *source* dont l'âge n'est pas manquant."
   ]
  },
  {
   "cell_type": "code",
   "execution_count": null,
   "metadata": {},
   "outputs": [],
   "source": [
    "PROC MEANS DATA = source.titanic NMISS;\n",
    "VAR AGE;\n",
    "RUN;"
   ]
  },
  {
   "cell_type": "code",
   "execution_count": null,
   "metadata": {},
   "outputs": [],
   "source": [
    "DATA resultat.titanic_svm;\n",
    "SET source.titanic;\n",
    "IF NOT(MISSING(AGE)) THEN OUTPUT;\n",
    "RUN;"
   ]
  },
  {
   "cell_type": "markdown",
   "metadata": {},
   "source": [
    "**Question** : À l'aide d'une étape DATA, crééz une table titanic_appur dans la bibliothèque *resultat* qui contiendra uniquement les observations de la table *titanic* de la bibliothèque *source* dont toutes les variables"
   ]
  },
  {
   "cell_type": "code",
   "execution_count": null,
   "metadata": {},
   "outputs": [],
   "source": [
    "DATA resultat.titanic_appur;\n",
    "SET resultat.titanic_svm;\n",
    "IF NOT(MISSING(AGE) | MISSING(CIVILITE) | MISSING(CLASSE) | MISSING(EPOUSEFRAT) | MISSING(PARENTSENF) | MISSING(PRIX) | MISSING(SURVIE)) THEN OUTPUT;\n",
    "RUN;"
   ]
  },
  {
   "cell_type": "markdown",
   "metadata": {},
   "source": [
    "**Question** : Créez un format *$sexe* qui associera pour chaque titre de civilité, le sexe de l'individu (\"Homme\" ou \"Femme\").\n",
    "\n",
    "On fera les hypothèses suivantes : \n",
    "\n",
    "| Civilite |    Libellé   |        Hypothèse        |\n",
    "|:--------:|:------------:|:-----------------------:|\n",
    "|   ColM   |   Colonnel   |  Il s'agit que d'hommes |\n",
    "|    DrF   |   Docteure   | Il s'agit que de femmes |\n",
    "|    DrM   |    Docteur   |  Il s'agit que d'hommes |\n",
    "|  Master  |    Maître    |  Il s'agit que d'hommes |\n",
    "|   Miss   | Mademoiselle | Il s'agit que de femmes |\n",
    "|    Mr    |   Monsieur   |  Il s'agit que d'hommes |\n",
    "|    Mrs   |    Madame    | Il s'agit que de femmes |\n",
    "|    Ms    |    Madame    | Il s'agit que de femmes |"
   ]
  },
  {
   "cell_type": "code",
   "execution_count": null,
   "metadata": {},
   "outputs": [],
   "source": [
    "PROC FORMAT;\n",
    "    VALUE $sexe\n",
    "        \"ColM\" = \"Homme\"\n",
    "        \"DrF\" = \"Femme\"\n",
    "        \"DrM\" = \"Homme\"\n",
    "        \"Master\" = \"Homme\"\n",
    "        \"Miss\" = \"Femme\"\n",
    "        \"Mr\" = \"Homme\"\n",
    "        \"Mrs\" = \"Femme\"\n",
    "        \"Ms\" = \"Femme\";\n",
    "RUN;"
   ]
  },
  {
   "cell_type": "markdown",
   "metadata": {},
   "source": [
    "**Question** : Ajoutez une variable sexe à la table titanic_appur de la bibliothèque *resultat* qui contiendra le sexe de chaque individu. On pourra utiliser le format *$sexe*."
   ]
  },
  {
   "cell_type": "code",
   "execution_count": null,
   "metadata": {},
   "outputs": [],
   "source": [
    "DATA resultat.titanic_appur;\n",
    "SET resultat.titanic_appur;\n",
    "SEXE = PUT(Civilite, $sexe.);\n",
    "RUN;"
   ]
  },
  {
   "cell_type": "markdown",
   "metadata": {},
   "source": [
    "## Exercice 2 : Analyse de la table *titanic_appur*"
   ]
  },
  {
   "cell_type": "markdown",
   "metadata": {},
   "source": [
    "**Question** : Combien d'individus ont survécu ? Quelle part de la population totale représentent ils ?"
   ]
  },
  {
   "cell_type": "code",
   "execution_count": null,
   "metadata": {},
   "outputs": [],
   "source": [
    "PROC FREQ DATA = source.titanic_appur;\n",
    "TABLE Survie;\n",
    "RUN;"
   ]
  },
  {
   "cell_type": "markdown",
   "metadata": {},
   "source": [
    "**Question** : Quel est l'âge moyen des individus ? Donnez l'âge moyen par sexe également."
   ]
  },
  {
   "cell_type": "code",
   "execution_count": null,
   "metadata": {},
   "outputs": [],
   "source": [
    "PROC MEANS DATA = source.titanic_appur MEAN;\n",
    "VAR AGE;\n",
    "CLASS SEXE;\n",
    "RUN;"
   ]
  },
  {
   "cell_type": "markdown",
   "metadata": {},
   "source": [
    "**Question** : Donnez les quartiles de la distribution des prix des tickets ainsi que le minimum et le maximum. Rappelez la définition de la VAI et de la VAS. Donnez les valeurs extrêmes."
   ]
  },
  {
   "cell_type": "code",
   "execution_count": null,
   "metadata": {},
   "outputs": [],
   "source": [
    "PROC MEANS DATA = source.titanic_appur Q1 MEDIAN Q3 MIN MAX;\n",
    "VAR PRIX;\n",
    "RUN;"
   ]
  },
  {
   "cell_type": "markdown",
   "metadata": {},
   "source": [
    "# Attention la variable PRIX a été codée en char et pas un numérique ..."
   ]
  }
 ],
 "metadata": {
  "kernelspec": {
   "display_name": "SAS",
   "language": "sas",
   "name": "sas"
  },
  "language_info": {
   "codemirror_mode": "sas",
   "file_extension": ".sas",
   "mimetype": "text/x-sas",
   "name": "sas"
  }
 },
 "nbformat": 4,
 "nbformat_minor": 2
}
