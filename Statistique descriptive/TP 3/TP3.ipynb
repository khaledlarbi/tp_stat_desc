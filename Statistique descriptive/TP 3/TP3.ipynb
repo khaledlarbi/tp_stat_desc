{
 "cells": [
  {
   "cell_type": "markdown",
   "metadata": {},
   "source": [
    "# TP 3 de Statistique descriptive avec SAS"
   ]
  },
  {
   "cell_type": "markdown",
   "metadata": {},
   "source": [
    "Objectifs de la séance : \n",
    "* blabbla\n",
    "* blablabla\n",
    "\n",
    "TO DO : bien faire une présentation de la base et des variables des tables equipement, libelle et population"
   ]
  },
  {
   "cell_type": "markdown",
   "metadata": {},
   "source": [
    "## Analyse univariée du nombre d'équipements"
   ]
  },
  {
   "cell_type": "markdown",
   "metadata": {},
   "source": [
    "**Question 1** : Créez une bibliothèque *source* qui contiendra les données en lecture seule. Créez également une bibliothèque *resultat* qui contiendra les résultats de vos exercices"
   ]
  },
  {
   "cell_type": "code",
   "execution_count": null,
   "metadata": {},
   "outputs": [],
   "source": [
    "LIBNAME source \"/folders/myfolders/Donnees_TP_SAS/TP3/source\" ACCESS = READONLY;\n",
    "LIBNAME resultat \"/folders/myfolders/Donnees_TP_SAS/TP3/resultat\";"
   ]
  },
  {
   "cell_type": "markdown",
   "metadata": {},
   "source": [
    "**Question 2** : Affichez les dix premières lignes de la table *equipement* et affichez des informations générales dessus. "
   ]
  },
  {
   "cell_type": "code",
   "execution_count": null,
   "metadata": {},
   "outputs": [],
   "source": [
    "PROC PRINT DATA = source.equipement(obs = 10);\n",
    "RUN;"
   ]
  },
  {
   "cell_type": "code",
   "execution_count": null,
   "metadata": {},
   "outputs": [],
   "source": [
    "PROC CONTENTS DATA = source.equipement;\n",
    "RUN;"
   ]
  },
  {
   "cell_type": "markdown",
   "metadata": {},
   "source": [
    "**Question 3** : La variable COMINSEE correspond au code géographique de la commune (il est différent du code postal). Néanmoins, ce code est censé être sur cinq positions (i.e de la forme xxxxx). Est-ce le cas pour toutes les communes ? Utilisez un format prédéfini adapté pour afficher correctement les codes géographiques. \n",
    "\n",
    "La table après application du format se nommera *equipement* et sera stockée dans la bibliothèque *resultat*."
   ]
  },
  {
   "cell_type": "markdown",
   "metadata": {},
   "source": [
    "**Réponse** : L'idée est de faire utiliser le format *Zn.* Je l'avais évoqué en cours de SAS début septembre."
   ]
  },
  {
   "cell_type": "code",
   "execution_count": null,
   "metadata": {},
   "outputs": [],
   "source": [
    "DATA resultat.equipement;\n",
    "SET source.equipement;\n",
    "FORMAT COMINSEE Z5.;\n",
    "RUN;"
   ]
  },
  {
   "cell_type": "markdown",
   "metadata": {},
   "source": [
    "**Question** : La table *libelle* contient deux variables permettant de faire le lien entre le numéro d'une activité (*Numero*) et le nom de l'activité (*Libelle*). À partir de cette table, créez le format *nomactivite* qui à un numéro d'activité associera le nom de l'activité."
   ]
  },
  {
   "cell_type": "code",
   "execution_count": null,
   "metadata": {},
   "outputs": [],
   "source": [
    "DATA format_lien;\n",
    "SET source.libelle;\n",
    "fmtname = \"nomactivite\";\n",
    "RENAME numero = start\n",
    "libelle = label;\n",
    "RUN;\n",
    "\n",
    "PROC FORMAT CNTLIN = format_lien;\n",
    "RUN;"
   ]
  },
  {
   "cell_type": "markdown",
   "metadata": {},
   "source": [
    "**Question** : Calculez le nombre total d'équipements par commune et stockez les résultats dans une table *nb_eq_com* dans la bibliothèque *resultat*. On n'affichera pas les résultats.\n",
    "La table *nb_eq_com* ne contiendra que deux variables : ComInsee (numéro de la commune) et nb_equip_tot (nombre total d'équipements)."
   ]
  },
  {
   "cell_type": "code",
   "execution_count": null,
   "metadata": {},
   "outputs": [],
   "source": [
    "PROC MEANS DATA = source.equipement SUM NOPRINT;\n",
    "VAR EFFECTIF;\n",
    "BY COMINSEE;\n",
    "OUTPUT OUT = resultat.nb_eq_com(keep=COMINSEE nb_equip_tot) SUM = nb_equip_tot;\n",
    "RUN;"
   ]
  },
  {
   "cell_type": "markdown",
   "metadata": {},
   "source": [
    "**Question** : À l'aide d'une étape DATA, ajoutez le libellé \"Code géographique officiel (COG)\" à la variable *COMINSEE* et le libellé \"Nombre d'équipements\" à la variable *nb_equip_tot*."
   ]
  },
  {
   "cell_type": "code",
   "execution_count": null,
   "metadata": {},
   "outputs": [],
   "source": [
    "DATA resultat.nb_eq_com;\n",
    "SET resultat.nb_eq_com;\n",
    "LABEL COMINSEE = \"Code géographique officiel (COG)\"\n",
    "nb_equip_tot = \"Nombre d'équipements\";\n",
    "RUN;"
   ]
  },
  {
   "cell_type": "markdown",
   "metadata": {},
   "source": [
    "**Question** : Calculez le nombre d'équipements par établissement. On stockera les résultats dans la table *nb_eq_dep* dans la bibliothèque *resultat*.\n",
    "\n",
    "Remarque : Le département correspond aux deux premières positions du code géographique officiel (donc sur cinq positions). On pourra ajouter une variable *dep* à la table *nb_eq_com* en utilisant les fonctions PUT et SUBSTR."
   ]
  },
  {
   "cell_type": "markdown",
   "metadata": {},
   "source": [
    "**Note pour les chargés de TP** : Cette question est intéressante dans la mesure où elle rappelle que si les élèves utilisent la fonction SUBSTR directement sur la variable COMINSEE alors on n'obtiendra pas le résultat voulu car la variable est numérique. Il faut donc la transformer en caractère en utilisant la fonction PUT et le format Z5. (pour bien afficher le cog sur 5 positions) puis appliquer la fonction SUBSTR en ne gardant que les deux premières positions."
   ]
  },
  {
   "cell_type": "code",
   "execution_count": null,
   "metadata": {},
   "outputs": [],
   "source": [
    "DATA resultat.nb_eq_com;\n",
    "SET resultat.nb_eq_com;\n",
    "cominsee_carac = PUT(COMINSEE, Z5.);\n",
    "DEP = SUBSTR(cominsee_carac, 1,2);\n",
    "DROP cominsee_carac;\n",
    "RUN;"
   ]
  },
  {
   "cell_type": "code",
   "execution_count": null,
   "metadata": {},
   "outputs": [],
   "source": [
    "proc contents data = resultat.nb_eq_com;\n",
    "run;"
   ]
  },
  {
   "cell_type": "code",
   "execution_count": null,
   "metadata": {},
   "outputs": [],
   "source": [
    "PROC MEANS DATA = resultat.nb_eq_com NOPRINT;\n",
    "VAR nb_equip_tot;\n",
    "BY DEP;\n",
    "OUTPUT OUT = resultat.nb_eq_dep(keep=DEP nb_equip_tot_dep) SUM = nb_equip_tot_dep;\n",
    "RUN;"
   ]
  },
  {
   "cell_type": "code",
   "execution_count": null,
   "metadata": {},
   "outputs": [],
   "source": [
    "proc print data = resultat.nb_eq_dep;\n",
    "run;"
   ]
  },
  {
   "cell_type": "markdown",
   "metadata": {},
   "source": [
    "## Analyse de la population par département"
   ]
  },
  {
   "cell_type": "markdown",
   "metadata": {},
   "source": [
    "**Question** : Affichez des informations générales sur la table *population*."
   ]
  },
  {
   "cell_type": "code",
   "execution_count": null,
   "metadata": {},
   "outputs": [],
   "source": [
    "PROC CONTENTS data = source.population;\n",
    "RUN;"
   ]
  },
  {
   "cell_type": "markdown",
   "metadata": {},
   "source": [
    "**Question** : Ajoutez une variable de type texte COMINSEE qui contiendra le code officiel géographique de chaque commune. Cette nouvelle table sera enregistré dans la bibliothèque *resultat* et se nommera *population*. \n",
    "\n",
    "Le code officiel géographique est la concaténation du code du département et du code de la commune."
   ]
  },
  {
   "cell_type": "code",
   "execution_count": null,
   "metadata": {},
   "outputs": [],
   "source": [
    "DATA resultat.population;\n",
    "SET source.population;\n",
    "LENGTH COMINSEE $5;\n",
    "COMINSEE = CATS(code_dep,code_com);\n",
    "RUN;"
   ]
  },
  {
   "cell_type": "code",
   "execution_count": null,
   "metadata": {},
   "outputs": [],
   "source": [
    "PROC PRINT DATA = resultat.population(obs = 20);\n",
    "RUN;"
   ]
  },
  {
   "cell_type": "markdown",
   "metadata": {},
   "source": [
    "**Question** : Créez la table *pop_equip_com* dans la bibliothèque *resultat* qui contiendra pour chaque observation (ici les communes) : \n",
    "* une variable ComInsee qui correspondra au code géographique officiel de la commune,\n",
    "* une variable nb_equip_tot qui correspondra au nombre total d'équipements de la commune,\n",
    "* une variable pop_tot qui correspondra au nombre d'habitants de la commune.\n",
    "\n",
    "On ne gardera que les communes dont on connaît le nombre d'équipements. On se servira de la table *population* créée à la question précédente."
   ]
  },
  {
   "cell_type": "markdown",
   "metadata": {},
   "source": [
    "**Note pour les chargés de TP** : L'idée est qu'ils fassent un MERGE entre la table population et la table nb_eq_com. Le problème est que dans la table nb_eq_com la variable COMINSEE est numérique alors qu'elle est caractère dans la table population. Ils devront utiliser les fonctions PUT et INPUT avant !\n",
    "\n",
    "Bien faire attention à définir la taille des variables.\n",
    "\n",
    "Dans le cours j'ai parlé de l'opérateur !! pour concaténer deux chaînes de caractères. Là, il faut faire une concaténation sans espace donc utiliser la fonction CATS ... Laissez les faire une petite recherche sur Internet."
   ]
  },
  {
   "cell_type": "code",
   "execution_count": null,
   "metadata": {},
   "outputs": [],
   "source": [
    "DATA nb_eq_com_tempo;\n",
    "SET resultat.nb_eq_com;\n",
    "LENGTH COMINSEE2 $5;\n",
    "COMINSEE2 = PUT(COMINSEE, Z5.);\n",
    "DROP COMINSEE;\n",
    "RENAME COMINSEE2 = COMINSEE;\n",
    "RUN;"
   ]
  },
  {
   "cell_type": "code",
   "execution_count": null,
   "metadata": {},
   "outputs": [],
   "source": [
    "PROC SORT DATA = nb_eq_com_tempo;\n",
    "BY COMINSEE;\n",
    "RUN;\n",
    "\n",
    "PROC SORT DATA = resultat.population;\n",
    "BY COMINSEE;\n",
    "RUN;\n",
    "\n",
    "DATA resultat.pop_equi_com;\n",
    "MERGE nb_eq_com_tempo(in = eq) resultat.population(in = pop);\n",
    "IF eq then OUTPUT;\n",
    "KEEP COMINSEE NB_EQUIP_TOT POP_TOT;\n",
    "BY COMINSEE;\n",
    "RUN;"
   ]
  },
  {
   "cell_type": "markdown",
   "metadata": {},
   "source": [
    "**Question** : De quels types (quantitatives ou qualitatives) sont les variables NB_EQUIP_TOT et POP_TOT ? "
   ]
  },
  {
   "cell_type": "markdown",
   "metadata": {},
   "source": [
    "**Question** : À l'aide d'un graphique, mettez en lumière le lien entre ces deux variables."
   ]
  },
  {
   "cell_type": "markdown",
   "metadata": {},
   "source": [
    "**Note pour les chargés de TP** : "
   ]
  }
 ],
 "metadata": {
  "kernelspec": {
   "display_name": "SAS",
   "language": "sas",
   "name": "sas"
  },
  "language_info": {
   "codemirror_mode": "sas",
   "file_extension": ".sas",
   "mimetype": "text/x-sas",
   "name": "sas"
  }
 },
 "nbformat": 4,
 "nbformat_minor": 2
}
