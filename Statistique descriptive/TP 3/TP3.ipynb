{
 "cells": [
  {
   "cell_type": "markdown",
   "metadata": {},
   "source": [
    "# TP 3 de Statistique descriptive avec SAS"
   ]
  },
  {
   "cell_type": "markdown",
   "metadata": {},
   "source": [
    "Objectifs de la séance : \n",
    "* Faire une analyse du lien entre deux variables qualitatives,\n",
    "* Utiliser les formats,\n",
    "* Faire une analyse de deux variables quantitatives.\n"
   ]
  },
  {
   "cell_type": "markdown",
   "metadata": {},
   "source": [
    "## Exercice 1 : Étude de la mobilité sociale intergénérationnelle"
   ]
  },
  {
   "cell_type": "markdown",
   "metadata": {},
   "source": [
    "Dans cet exercice, on va considérer la table *fqp*. Cette table contient pour chaque individu (individu) sa catégorie socioprofessionelle (CSFils) et celle de son père (CSPere). On retrouve également une variable identificatrice (id)."
   ]
  },
  {
   "cell_type": "markdown",
   "metadata": {},
   "source": [
    "**Question 1** : Créez une bibliothèque *source* qui contiendra les données en lecture seule. Créez également une bibliothèque *resultat* qui contiendra les résultats de vos exercices"
   ]
  },
  {
   "cell_type": "code",
   "execution_count": null,
   "metadata": {},
   "outputs": [],
   "source": [
    "LIBNAME source \"/folders/myfolders/Donnees_TP_SAS/TP3/source\" ACCESS = READONLY;\n",
    "LIBNAME resultat \"/folders/myfolders/Donnees_TP_SAS/TP3/resultat\";"
   ]
  },
  {
   "cell_type": "markdown",
   "metadata": {},
   "source": [
    "**Question 2** : Combien de variables non numérique contient cette table ? Combien d'observations ?"
   ]
  },
  {
   "cell_type": "markdown",
   "metadata": {},
   "source": [
    "**Question 3** : À l'aide d'une procédure FREQ, affichez le nombre de modalités des variables CSFils et CSPere."
   ]
  },
  {
   "cell_type": "markdown",
   "metadata": {},
   "source": [
    "**Question 4** : Créez un format CS qui associe à \n",
    "* \"1\" $\\longrightarrow$ Agriculture\n",
    "* \"2\" $\\longrightarrow$ Artisan\n",
    "* \"3\" $\\longrightarrow$ Cadre et PIS\n",
    "* \"4\" $\\longrightarrow$ Professions intermédiaires\n",
    "* \"5\" $\\longrightarrow$ Employé\n",
    "* \"6\" $\\longrightarrow$ Ouvrier"
   ]
  },
  {
   "cell_type": "markdown",
   "metadata": {},
   "source": [
    "**Question 5** : Affichez le tableau de contingence des variables CSFils (en ligne) et CSPere (en colonne). On appliquera ces deux variables le format CS."
   ]
  },
  {
   "cell_type": "markdown",
   "metadata": {},
   "source": [
    "**Question 6** : Affichez le tableau des fréquences conditionnelles par ligne (aussi appelé tableau des profils-lignes). Les sociologues appellent cette table la table des recrutements. Pourquoi ? Comment interpréter le 88.42% à l'intersection des modalités Agriculture des deux variables ?\n",
    "\n",
    "Dans une situation de fluidité sociale, comment serait la table des recrutements ? Quid dans le cas d'une absence totale de mobilité sociale ?"
   ]
  },
  {
   "cell_type": "markdown",
   "metadata": {},
   "source": [
    "**Question 7** : Calculez la statistique du Khi-Deux des variables CS1 et CS2. \n",
    "\n",
    "Imaginons qu'on s'intéresse au lien entre les variables CS1 et CS2 directement sur les personnes interrogés sans prendre en compte la pondération (soit 6 947 individus). La pondération étant uniforme (même poids pour chaque individu), est-ce que les distributions (au sens des fréquences) de chacunes des variables changent ? Calculez la statistique du Khi-Deux des variables CS1 et CS1 sur les 6 947 individus interrogés. Que remarquez-vous ? Donnez un \"inconvénient\" de cette statistique."
   ]
  },
  {
   "cell_type": "markdown",
   "metadata": {},
   "source": [
    "## Exercice 2 : Étude de l'offre d'équipements"
   ]
  },
  {
   "cell_type": "markdown",
   "metadata": {},
   "source": [
    "**Question 8** : Affichez les dix premières lignes de la table *equipement* et affichez des informations générales dessus. "
   ]
  },
  {
   "cell_type": "code",
   "execution_count": null,
   "metadata": {},
   "outputs": [],
   "source": [
    "PROC PRINT DATA = source.equipement(obs = 10);\n",
    "RUN;"
   ]
  },
  {
   "cell_type": "code",
   "execution_count": null,
   "metadata": {},
   "outputs": [],
   "source": [
    "PROC CONTENTS DATA = source.equipement;\n",
    "RUN;"
   ]
  },
  {
   "cell_type": "markdown",
   "metadata": {},
   "source": [
    "**Question 9** : La variable COMINSEE correspond au code géographique de la commune (il est différent du code postal). Néanmoins, ce code est censé être sur cinq positions (i.e de la forme xxxxx). Est-ce le cas pour toutes les communes ? Utilisez un format prédéfini adapté pour afficher correctement les codes géographiques. \n",
    "\n",
    "La table après application du format se nommera *equipement* et sera stockée dans la bibliothèque *resultat*."
   ]
  },
  {
   "cell_type": "markdown",
   "metadata": {},
   "source": [
    "**Réponse** : L'idée est de faire utiliser le format *Zn.* Je l'avais évoqué en cours de SAS début septembre."
   ]
  },
  {
   "cell_type": "code",
   "execution_count": null,
   "metadata": {},
   "outputs": [],
   "source": [
    "DATA resultat.equipement;\n",
    "SET source.equipement;\n",
    "FORMAT COMINSEE Z5.;\n",
    "RUN;"
   ]
  },
  {
   "cell_type": "markdown",
   "metadata": {},
   "source": [
    "**Question 10** : La table *libelle* contient deux variables permettant de faire le lien entre le numéro d'une activité (*Numero*) et le nom de l'activité (*Libelle*). À partir de cette table, créez le format *nomactivite* qui à un numéro d'activité associera le nom de l'activité."
   ]
  },
  {
   "cell_type": "code",
   "execution_count": null,
   "metadata": {},
   "outputs": [],
   "source": [
    "DATA format_lien;\n",
    "SET source.libelle;\n",
    "fmtname = \"nomactivite\";\n",
    "RENAME numero = start\n",
    "libelle = label;\n",
    "RUN;\n",
    "\n",
    "PROC FORMAT CNTLIN = format_lien;\n",
    "RUN;"
   ]
  },
  {
   "cell_type": "markdown",
   "metadata": {},
   "source": [
    "**Question 11** : Calculez le nombre total d'équipements par commune et stockez les résultats dans une table *nb_eq_com* dans la bibliothèque *resultat*. On n'affichera pas les résultats.\n",
    "La table *nb_eq_com* ne contiendra que deux variables : ComInsee (numéro de la commune) et nb_equip_tot (nombre total d'équipements)."
   ]
  },
  {
   "cell_type": "code",
   "execution_count": null,
   "metadata": {},
   "outputs": [],
   "source": [
    "PROC MEANS DATA = source.equipement SUM NOPRINT;\n",
    "VAR EFFECTIF;\n",
    "BY COMINSEE;\n",
    "OUTPUT OUT = resultat.nb_eq_com(keep=COMINSEE nb_equip_tot) SUM = nb_equip_tot;\n",
    "RUN;"
   ]
  },
  {
   "cell_type": "code",
   "execution_count": null,
   "metadata": {},
   "outputs": [],
   "source": [
    "proc print data = resultat.nb_eq_com;\n",
    "run;"
   ]
  },
  {
   "cell_type": "markdown",
   "metadata": {},
   "source": [
    "**Question 12** : À l'aide d'une étape DATA, ajoutez le libellé \"Code géographique officiel (COG)\" à la variable *COMINSEE* et le libellé \"Nombre d'équipements\" à la variable *nb_equip_tot*."
   ]
  },
  {
   "cell_type": "code",
   "execution_count": null,
   "metadata": {},
   "outputs": [],
   "source": [
    "DATA resultat.nb_eq_com;\n",
    "SET resultat.nb_eq_com;\n",
    "LABEL COMINSEE = \"Code géographique officiel (COG)\"\n",
    "nb_equip_tot = \"Nombre d'équipements\";\n",
    "RUN;"
   ]
  },
  {
   "cell_type": "markdown",
   "metadata": {},
   "source": [
    "**Question 13** : Calculez le nombre d'équipements par département. On stockera les résultats dans la table *nb_eq_dep* dans la bibliothèque *resultat*.\n",
    "\n",
    "Remarque : Le département correspond aux deux premières positions du code géographique officiel (donc sur cinq positions). On pourra ajouter une variable *dep* à la table *nb_eq_com* en utilisant les fonctions PUT et SUBSTR."
   ]
  },
  {
   "cell_type": "markdown",
   "metadata": {},
   "source": [
    "**Note pour les chargés de TP** : Cette question est intéressante dans la mesure où elle rappelle que si les élèves utilisent la fonction SUBSTR directement sur la variable COMINSEE alors on n'obtiendra pas le résultat voulu car la variable est numérique. Il faut donc la transformer en caractère en utilisant la fonction PUT et le format Z5. (pour bien afficher le cog sur 5 positions) puis appliquer la fonction SUBSTR en ne gardant que les deux premières positions."
   ]
  },
  {
   "cell_type": "code",
   "execution_count": null,
   "metadata": {},
   "outputs": [],
   "source": [
    "DATA resultat.nb_eq_com;\n",
    "SET resultat.nb_eq_com;\n",
    "cominsee_carac = PUT(COMINSEE, Z5.);\n",
    "DEP = SUBSTR(cominsee_carac, 1,2);\n",
    "DROP cominsee_carac;\n",
    "RUN;"
   ]
  },
  {
   "cell_type": "code",
   "execution_count": null,
   "metadata": {},
   "outputs": [],
   "source": [
    "PROC MEANS DATA = resultat.nb_eq_com NOPRINT;\n",
    "VAR nb_equip_tot;\n",
    "BY DEP;\n",
    "OUTPUT OUT = resultat.nb_eq_dep(keep=DEP nb_equip_tot_dep) SUM = nb_equip_tot_dep;\n",
    "RUN;"
   ]
  },
  {
   "cell_type": "markdown",
   "metadata": {},
   "source": [
    "**Question 14** : Parmi ces départements, lequel dispose du plus grand nombre d'équipements ?"
   ]
  },
  {
   "cell_type": "markdown",
   "metadata": {},
   "source": [
    "**Répose** : C'est le Nord"
   ]
  },
  {
   "cell_type": "markdown",
   "metadata": {},
   "source": [
    "**Question 15** : Affichez des informations générales sur la table *population*."
   ]
  },
  {
   "cell_type": "code",
   "execution_count": null,
   "metadata": {},
   "outputs": [],
   "source": [
    "PROC CONTENTS data = source.population;\n",
    "RUN;"
   ]
  },
  {
   "cell_type": "markdown",
   "metadata": {},
   "source": [
    "**Question 16** : Ajoutez une variable de type texte COMINSEE qui contiendra le code officiel géographique de chaque commune. Cette nouvelle table sera enregistré dans la bibliothèque *resultat* et se nommera *population*. \n",
    "\n",
    "Le code officiel géographique est la concaténation du code du département et du code de la commune."
   ]
  },
  {
   "cell_type": "code",
   "execution_count": null,
   "metadata": {},
   "outputs": [],
   "source": [
    "DATA resultat.population;\n",
    "SET source.population;\n",
    "LENGTH COMINSEE $5;\n",
    "COMINSEE = CATS(code_dep,code_com);\n",
    "RUN;"
   ]
  },
  {
   "cell_type": "markdown",
   "metadata": {},
   "source": [
    "**Question 17** : Créez la table *pop_equip_com* dans la bibliothèque *resultat* qui contiendra pour chaque observation (ici les communes) : \n",
    "* une variable ComInsee qui correspondra au code géographique officiel de la commune,\n",
    "* une variable nb_equip_tot qui correspondra au nombre total d'équipements de la commune,\n",
    "* une variable pop_tot qui correspondra au nombre d'habitants de la commune.\n",
    "\n",
    "On ne gardera que les communes dont on connaît le nombre d'équipements. On se servira de la table *population* créée à la question précédente."
   ]
  },
  {
   "cell_type": "markdown",
   "metadata": {},
   "source": [
    "**Note pour les chargés de TP** : L'idée est qu'ils fassent un MERGE entre la table population et la table nb_eq_com. Le problème est que dans la table nb_eq_com la variable COMINSEE est numérique alors qu'elle est caractère dans la table population. Ils devront utiliser les fonctions PUT et INPUT avant !\n",
    "\n",
    "Bien faire attention à définir la taille des variables.\n",
    "\n",
    "Dans le cours j'ai parlé de l'opérateur !! pour concaténer deux chaînes de caractères. Là, il faut faire une concaténation sans espace donc utiliser la fonction CATS ... Laissez les faire une petite recherche sur Internet."
   ]
  },
  {
   "cell_type": "code",
   "execution_count": null,
   "metadata": {},
   "outputs": [],
   "source": [
    "DATA nb_eq_com_tempo;\n",
    "SET resultat.nb_eq_com;\n",
    "LENGTH COMINSEE2 $5;\n",
    "COMINSEE2 = PUT(COMINSEE, Z5.);\n",
    "DROP COMINSEE;\n",
    "RENAME COMINSEE2 = COMINSEE;\n",
    "RUN;"
   ]
  },
  {
   "cell_type": "code",
   "execution_count": null,
   "metadata": {},
   "outputs": [],
   "source": [
    "PROC SORT DATA = nb_eq_com_tempo;\n",
    "BY COMINSEE;\n",
    "RUN;\n",
    "\n",
    "PROC SORT DATA = resultat.population;\n",
    "BY COMINSEE;\n",
    "RUN;\n",
    "\n",
    "DATA resultat.pop_equi_com;\n",
    "MERGE nb_eq_com_tempo(in = eq) resultat.population(in = pop);\n",
    "IF eq then OUTPUT;\n",
    "KEEP COMINSEE NB_EQUIP_TOT POP_TOT;\n",
    "BY COMINSEE;\n",
    "RUN;"
   ]
  },
  {
   "cell_type": "markdown",
   "metadata": {},
   "source": [
    "**Question 18** : De quels types (quantitatives ou qualitatives) sont les variables NB_EQUIP_TOT et POP_TOT ? "
   ]
  },
  {
   "cell_type": "markdown",
   "metadata": {},
   "source": [
    "Qualitative"
   ]
  },
  {
   "cell_type": "markdown",
   "metadata": {},
   "source": [
    "**Question 19** : À l'aide d'un graphique, mettez en lumière le lien entre ces deux variables."
   ]
  },
  {
   "cell_type": "code",
   "execution_count": null,
   "metadata": {},
   "outputs": [],
   "source": [
    "PROC SGPLOT DATA = resultat.pop_equi_com;\n",
    "SCATTER X = POP_TOT Y = NB_EQUIP_TOT;\n",
    "RUN;"
   ]
  },
  {
   "cell_type": "markdown",
   "metadata": {},
   "source": [
    "**Question 20** : Quel indicateur permet de mesurer le lien linéaire entre deux variables qualitatives ? Rappelez la formule de ce coefficient.\n",
    "Utilisez la procédure CORR pour calculer cettt statistique entre la variable POP_TOT et NB_EQUIP_TOT."
   ]
  },
  {
   "cell_type": "markdown",
   "metadata": {},
   "source": [
    "**Réponse** : Soient $X = (x_1, ..., x_n)$ et $Y = (y_1, ..., y_n)$, deux variables quantitatives. On appelle coefficient de corrélation de Pearson, la statistique définie par $\\displaystyle \\rho(X,Y) = \\frac{\\text{Cov}(X,Y)}{\\text{Var}(X)}$. \n",
    "\n",
    "Ce coefficient est compris entre -1 et 1 d'après l'inégalité de Cauchy-Schwartz. \n",
    "Un coefficient de 0 ne signifie pas une absence de lien (mais de lien linéaire).\n",
    "Un coefficient égal à -1 ou 1 signifie que le lien entre les deux variables est purement affine (avec une pente non nulle) (la réciproque est vraie).\n",
    "Pour autant, un coefficient proche de -1 et 1 mais différent ne permet pas de conclure que les points sont alignés ..."
   ]
  },
  {
   "cell_type": "code",
   "execution_count": null,
   "metadata": {},
   "outputs": [],
   "source": [
    "PROC CORR DATA = resultat.pop_equi_com;\n",
    "RUN;"
   ]
  },
  {
   "cell_type": "markdown",
   "metadata": {},
   "source": [
    "**Question 21** : On considère le modèle de régression linéaire de *nb_equip_tot* sur *pop_tot* : $\\text{nb_equip_tot} = \\alpha + \\beta \\times \\text{pop_tot}$. On note $(\\hat \\alpha, \\hat \\beta)$, les estimations des coefficients obtenues par la méthode des moindres carrés ordinaires. \n",
    "\n",
    "Rappelez en quoi consiste la méthode des moindres carrés ordinaires et donnez une expression analytique des coefficients $(\\hat \\alpha, \\hat \\beta)$.\n",
    "\n",
    "Quel est le lien entre $\\hat \\beta$ et le coefficient de corrélation de Pearson des variables *nb_equi_tot* et *pop_tot* ?\n",
    "\n",
    "À l'aide de la procédure REG, donnez les valeurs de ces coefficients."
   ]
  },
  {
   "cell_type": "markdown",
   "metadata": {},
   "source": [
    "Pour rappel : $\\displaystyle \\hat \\beta = \\frac{Cov(nb\\_equip\\_tot, pop\\_tot)}{Var(pop\\_tot)}= \\rho(nb\\_equip\\_tot,pop\\_tot) \\times \\frac{\\sqrt{Var(nb\\_equip\\_tot)}}{\\sqrt{Var(pop\\_tot)}}$"
   ]
  },
  {
   "cell_type": "code",
   "execution_count": null,
   "metadata": {},
   "outputs": [],
   "source": [
    "PROC REG DATA = resultat.pop_equi_com;\n",
    "MODEL NB_EQUIP_TOT = POP_TOT;\n",
    "RUN;"
   ]
  }
 ],
 "metadata": {
  "kernelspec": {
   "display_name": "SAS",
   "language": "sas",
   "name": "sas"
  },
  "language_info": {
   "codemirror_mode": "sas",
   "file_extension": ".sas",
   "mimetype": "text/x-sas",
   "name": "sas"
  }
 },
 "nbformat": 4,
 "nbformat_minor": 2
}
